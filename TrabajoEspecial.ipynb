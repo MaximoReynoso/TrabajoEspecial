{
 "cells": [
  {
   "cell_type": "markdown",
   "metadata": {},
   "source": [
    "Cambio a delimitado por \",\""
   ]
  },
  {
   "cell_type": "code",
   "execution_count": 4,
   "metadata": {},
   "outputs": [],
   "source": [
    "\n",
    "df = pd.read_csv('Calidad_de_agus_2023.csv', delimiter=';')\n",
    "\n",
    "df.to_csv('Calidad_de_agus_2023.csv', index=False)"
   ]
  },
  {
   "cell_type": "markdown",
   "metadata": {},
   "source": [
    "LEO DATOS"
   ]
  },
  {
   "cell_type": "code",
   "execution_count": 5,
   "metadata": {},
   "outputs": [
    {
     "data": {
      "text/html": [
       "<div>\n",
       "<style scoped>\n",
       "    .dataframe tbody tr th:only-of-type {\n",
       "        vertical-align: middle;\n",
       "    }\n",
       "\n",
       "    .dataframe tbody tr th {\n",
       "        vertical-align: top;\n",
       "    }\n",
       "\n",
       "    .dataframe thead th {\n",
       "        text-align: right;\n",
       "    }\n",
       "</style>\n",
       "<table border=\"1\" class=\"dataframe\">\n",
       "  <thead>\n",
       "    <tr style=\"text-align: right;\">\n",
       "      <th></th>\n",
       "      <th>orden,sitios,codigo,fecha,año,campaña,tem_agua,tem_aire,od,ph,olores,color,espumas,mat_susp,colif_fecales_ufc_100ml,escher_coli_ufc_100ml,enteroc_ufc_100ml,nitrato_mg_l,nh4_mg_l,p_total_l_mg_l,fosf_ortofos_mg_l,dbo_mg_l,dqo_mg_l,turbiedad_ntu,hidr_deriv_petr_ug_l,cr_total_mg_l,cd_total_mg_l,clorofila_a_ug_l,microcistina_ug_l,ica,calidad_de_agua</th>\n",
       "    </tr>\n",
       "  </thead>\n",
       "  <tbody>\n",
       "    <tr>\n",
       "      <th>0</th>\n",
       "      <td>1,Canal Villanueva y Río Luján,TI001,22/2/2023...</td>\n",
       "    </tr>\n",
       "    <tr>\n",
       "      <th>1</th>\n",
       "      <td>1,Canal Villanueva y Río Luján,TI001,10/5/2023...</td>\n",
       "    </tr>\n",
       "    <tr>\n",
       "      <th>2</th>\n",
       "      <td>1,Canal Villanueva y Río Luján,TI001,23/8/2023...</td>\n",
       "    </tr>\n",
       "    <tr>\n",
       "      <th>3</th>\n",
       "      <td>1,Canal Villanueva y Río Luján,TI001,14/11/202...</td>\n",
       "    </tr>\n",
       "    <tr>\n",
       "      <th>4</th>\n",
       "      <td>2,Río Lujan y Arroyo Caraguatá,TI006,22/2/2023...</td>\n",
       "    </tr>\n",
       "    <tr>\n",
       "      <th>...</th>\n",
       "      <td>...</td>\n",
       "    </tr>\n",
       "    <tr>\n",
       "      <th>164</th>\n",
       "      <td>42,Balneario Municipal,BS094,23/8/2023,2023,in...</td>\n",
       "    </tr>\n",
       "    <tr>\n",
       "      <th>165</th>\n",
       "      <td>42,Playa La Balandra,BS093,22/2/2023,2023,Vera...</td>\n",
       "    </tr>\n",
       "    <tr>\n",
       "      <th>166</th>\n",
       "      <td>42,Playa La Balandra,BS093,10/5/2023,2023,otoñ...</td>\n",
       "    </tr>\n",
       "    <tr>\n",
       "      <th>167</th>\n",
       "      <td>42,Playa La Balandra,BS093,14/11/2023,2023,pri...</td>\n",
       "    </tr>\n",
       "    <tr>\n",
       "      <th>168</th>\n",
       "      <td>43,Playa La Balandra,BS093,23/8/2023,2023,invi...</td>\n",
       "    </tr>\n",
       "  </tbody>\n",
       "</table>\n",
       "<p>169 rows × 1 columns</p>\n",
       "</div>"
      ],
      "text/plain": [
       "    orden,sitios,codigo,fecha,año,campaña,tem_agua,tem_aire,od,ph,olores,color,espumas,mat_susp,colif_fecales_ufc_100ml,escher_coli_ufc_100ml,enteroc_ufc_100ml,nitrato_mg_l,nh4_mg_l,p_total_l_mg_l,fosf_ortofos_mg_l,dbo_mg_l,dqo_mg_l,turbiedad_ntu,hidr_deriv_petr_ug_l,cr_total_mg_l,cd_total_mg_l,clorofila_a_ug_l,microcistina_ug_l,ica,calidad_de_agua\n",
       "0    1,Canal Villanueva y Río Luján,TI001,22/2/2023...                                                                                                                                                                                                                                                                                                        \n",
       "1    1,Canal Villanueva y Río Luján,TI001,10/5/2023...                                                                                                                                                                                                                                                                                                        \n",
       "2    1,Canal Villanueva y Río Luján,TI001,23/8/2023...                                                                                                                                                                                                                                                                                                        \n",
       "3    1,Canal Villanueva y Río Luján,TI001,14/11/202...                                                                                                                                                                                                                                                                                                        \n",
       "4    2,Río Lujan y Arroyo Caraguatá,TI006,22/2/2023...                                                                                                                                                                                                                                                                                                        \n",
       "..                                                 ...                                                                                                                                                                                                                                                                                                        \n",
       "164  42,Balneario Municipal,BS094,23/8/2023,2023,in...                                                                                                                                                                                                                                                                                                        \n",
       "165  42,Playa La Balandra,BS093,22/2/2023,2023,Vera...                                                                                                                                                                                                                                                                                                        \n",
       "166  42,Playa La Balandra,BS093,10/5/2023,2023,otoñ...                                                                                                                                                                                                                                                                                                        \n",
       "167  42,Playa La Balandra,BS093,14/11/2023,2023,pri...                                                                                                                                                                                                                                                                                                        \n",
       "168  43,Playa La Balandra,BS093,23/8/2023,2023,invi...                                                                                                                                                                                                                                                                                                        \n",
       "\n",
       "[169 rows x 1 columns]"
      ]
     },
     "execution_count": 5,
     "metadata": {},
     "output_type": "execute_result"
    }
   ],
   "source": [
    "import pandas as pd\n",
    "\n",
    "# abrimos el archivo usando una función específica de pandas\n",
    "raw_dataset = pd.read_csv(\"Calidad_de_agus_2023.csv\")\n",
    "\n",
    "raw_dataset"
   ]
  },
  {
   "cell_type": "markdown",
   "metadata": {},
   "source": [
    "Hago un head para ver de que tratan los datos"
   ]
  },
  {
   "cell_type": "code",
   "execution_count": 6,
   "metadata": {},
   "outputs": [
    {
     "data": {
      "text/html": [
       "<div>\n",
       "<style scoped>\n",
       "    .dataframe tbody tr th:only-of-type {\n",
       "        vertical-align: middle;\n",
       "    }\n",
       "\n",
       "    .dataframe tbody tr th {\n",
       "        vertical-align: top;\n",
       "    }\n",
       "\n",
       "    .dataframe thead th {\n",
       "        text-align: right;\n",
       "    }\n",
       "</style>\n",
       "<table border=\"1\" class=\"dataframe\">\n",
       "  <thead>\n",
       "    <tr style=\"text-align: right;\">\n",
       "      <th></th>\n",
       "      <th>orden,sitios,codigo,fecha,año,campaña,tem_agua,tem_aire,od,ph,olores,color,espumas,mat_susp,colif_fecales_ufc_100ml,escher_coli_ufc_100ml,enteroc_ufc_100ml,nitrato_mg_l,nh4_mg_l,p_total_l_mg_l,fosf_ortofos_mg_l,dbo_mg_l,dqo_mg_l,turbiedad_ntu,hidr_deriv_petr_ug_l,cr_total_mg_l,cd_total_mg_l,clorofila_a_ug_l,microcistina_ug_l,ica,calidad_de_agua</th>\n",
       "    </tr>\n",
       "  </thead>\n",
       "  <tbody>\n",
       "    <tr>\n",
       "      <th>0</th>\n",
       "      <td>1,Canal Villanueva y Río Luján,TI001,22/2/2023...</td>\n",
       "    </tr>\n",
       "    <tr>\n",
       "      <th>1</th>\n",
       "      <td>1,Canal Villanueva y Río Luján,TI001,10/5/2023...</td>\n",
       "    </tr>\n",
       "    <tr>\n",
       "      <th>2</th>\n",
       "      <td>1,Canal Villanueva y Río Luján,TI001,23/8/2023...</td>\n",
       "    </tr>\n",
       "    <tr>\n",
       "      <th>3</th>\n",
       "      <td>1,Canal Villanueva y Río Luján,TI001,14/11/202...</td>\n",
       "    </tr>\n",
       "    <tr>\n",
       "      <th>4</th>\n",
       "      <td>2,Río Lujan y Arroyo Caraguatá,TI006,22/2/2023...</td>\n",
       "    </tr>\n",
       "  </tbody>\n",
       "</table>\n",
       "</div>"
      ],
      "text/plain": [
       "  orden,sitios,codigo,fecha,año,campaña,tem_agua,tem_aire,od,ph,olores,color,espumas,mat_susp,colif_fecales_ufc_100ml,escher_coli_ufc_100ml,enteroc_ufc_100ml,nitrato_mg_l,nh4_mg_l,p_total_l_mg_l,fosf_ortofos_mg_l,dbo_mg_l,dqo_mg_l,turbiedad_ntu,hidr_deriv_petr_ug_l,cr_total_mg_l,cd_total_mg_l,clorofila_a_ug_l,microcistina_ug_l,ica,calidad_de_agua\n",
       "0  1,Canal Villanueva y Río Luján,TI001,22/2/2023...                                                                                                                                                                                                                                                                                                        \n",
       "1  1,Canal Villanueva y Río Luján,TI001,10/5/2023...                                                                                                                                                                                                                                                                                                        \n",
       "2  1,Canal Villanueva y Río Luján,TI001,23/8/2023...                                                                                                                                                                                                                                                                                                        \n",
       "3  1,Canal Villanueva y Río Luján,TI001,14/11/202...                                                                                                                                                                                                                                                                                                        \n",
       "4  2,Río Lujan y Arroyo Caraguatá,TI006,22/2/2023...                                                                                                                                                                                                                                                                                                        "
      ]
     },
     "execution_count": 6,
     "metadata": {},
     "output_type": "execute_result"
    }
   ],
   "source": [
    "raw_dataset.head()"
   ]
  },
  {
   "cell_type": "markdown",
   "metadata": {},
   "source": [
    "Borro las colunas Orden, Codigo y ano ya que no aportan nada al analisis"
   ]
  },
  {
   "cell_type": "code",
   "execution_count": 7,
   "metadata": {},
   "outputs": [
    {
     "ename": "KeyError",
     "evalue": "\"['orden'] not found in axis\"",
     "output_type": "error",
     "traceback": [
      "\u001b[1;31m---------------------------------------------------------------------------\u001b[0m",
      "\u001b[1;31mKeyError\u001b[0m                                  Traceback (most recent call last)",
      "Cell \u001b[1;32mIn[7], line 1\u001b[0m\n\u001b[1;32m----> 1\u001b[0m raw_dataset \u001b[38;5;241m=\u001b[39m \u001b[43mraw_dataset\u001b[49m\u001b[38;5;241;43m.\u001b[39;49m\u001b[43mdrop\u001b[49m\u001b[43m(\u001b[49m\u001b[38;5;124;43m'\u001b[39;49m\u001b[38;5;124;43morden\u001b[39;49m\u001b[38;5;124;43m'\u001b[39;49m\u001b[43m,\u001b[49m\u001b[43m \u001b[49m\u001b[43maxis\u001b[49m\u001b[38;5;241;43m=\u001b[39;49m\u001b[38;5;241;43m1\u001b[39;49m\u001b[43m)\u001b[49m\n\u001b[0;32m      2\u001b[0m raw_dataset \u001b[38;5;241m=\u001b[39m raw_dataset\u001b[38;5;241m.\u001b[39mdrop(\u001b[38;5;124m'\u001b[39m\u001b[38;5;124mcodigo\u001b[39m\u001b[38;5;124m'\u001b[39m, axis\u001b[38;5;241m=\u001b[39m\u001b[38;5;241m1\u001b[39m)\n\u001b[0;32m      3\u001b[0m raw_dataset \u001b[38;5;241m=\u001b[39m raw_dataset\u001b[38;5;241m.\u001b[39mdrop(\u001b[38;5;124m'\u001b[39m\u001b[38;5;124maño\u001b[39m\u001b[38;5;124m'\u001b[39m, axis\u001b[38;5;241m=\u001b[39m\u001b[38;5;241m1\u001b[39m)\n",
      "File \u001b[1;32mc:\\Users\\kevin\\cdd\\TrabajoEspecial\\entorno\\Lib\\site-packages\\pandas\\core\\frame.py:5581\u001b[0m, in \u001b[0;36mDataFrame.drop\u001b[1;34m(self, labels, axis, index, columns, level, inplace, errors)\u001b[0m\n\u001b[0;32m   5433\u001b[0m \u001b[38;5;28;01mdef\u001b[39;00m \u001b[38;5;21mdrop\u001b[39m(\n\u001b[0;32m   5434\u001b[0m     \u001b[38;5;28mself\u001b[39m,\n\u001b[0;32m   5435\u001b[0m     labels: IndexLabel \u001b[38;5;241m|\u001b[39m \u001b[38;5;28;01mNone\u001b[39;00m \u001b[38;5;241m=\u001b[39m \u001b[38;5;28;01mNone\u001b[39;00m,\n\u001b[1;32m   (...)\u001b[0m\n\u001b[0;32m   5442\u001b[0m     errors: IgnoreRaise \u001b[38;5;241m=\u001b[39m \u001b[38;5;124m\"\u001b[39m\u001b[38;5;124mraise\u001b[39m\u001b[38;5;124m\"\u001b[39m,\n\u001b[0;32m   5443\u001b[0m ) \u001b[38;5;241m-\u001b[39m\u001b[38;5;241m>\u001b[39m DataFrame \u001b[38;5;241m|\u001b[39m \u001b[38;5;28;01mNone\u001b[39;00m:\n\u001b[0;32m   5444\u001b[0m \u001b[38;5;250m    \u001b[39m\u001b[38;5;124;03m\"\"\"\u001b[39;00m\n\u001b[0;32m   5445\u001b[0m \u001b[38;5;124;03m    Drop specified labels from rows or columns.\u001b[39;00m\n\u001b[0;32m   5446\u001b[0m \n\u001b[1;32m   (...)\u001b[0m\n\u001b[0;32m   5579\u001b[0m \u001b[38;5;124;03m            weight  1.0     0.8\u001b[39;00m\n\u001b[0;32m   5580\u001b[0m \u001b[38;5;124;03m    \"\"\"\u001b[39;00m\n\u001b[1;32m-> 5581\u001b[0m     \u001b[38;5;28;01mreturn\u001b[39;00m \u001b[38;5;28;43msuper\u001b[39;49m\u001b[43m(\u001b[49m\u001b[43m)\u001b[49m\u001b[38;5;241;43m.\u001b[39;49m\u001b[43mdrop\u001b[49m\u001b[43m(\u001b[49m\n\u001b[0;32m   5582\u001b[0m \u001b[43m        \u001b[49m\u001b[43mlabels\u001b[49m\u001b[38;5;241;43m=\u001b[39;49m\u001b[43mlabels\u001b[49m\u001b[43m,\u001b[49m\n\u001b[0;32m   5583\u001b[0m \u001b[43m        \u001b[49m\u001b[43maxis\u001b[49m\u001b[38;5;241;43m=\u001b[39;49m\u001b[43maxis\u001b[49m\u001b[43m,\u001b[49m\n\u001b[0;32m   5584\u001b[0m \u001b[43m        \u001b[49m\u001b[43mindex\u001b[49m\u001b[38;5;241;43m=\u001b[39;49m\u001b[43mindex\u001b[49m\u001b[43m,\u001b[49m\n\u001b[0;32m   5585\u001b[0m \u001b[43m        \u001b[49m\u001b[43mcolumns\u001b[49m\u001b[38;5;241;43m=\u001b[39;49m\u001b[43mcolumns\u001b[49m\u001b[43m,\u001b[49m\n\u001b[0;32m   5586\u001b[0m \u001b[43m        \u001b[49m\u001b[43mlevel\u001b[49m\u001b[38;5;241;43m=\u001b[39;49m\u001b[43mlevel\u001b[49m\u001b[43m,\u001b[49m\n\u001b[0;32m   5587\u001b[0m \u001b[43m        \u001b[49m\u001b[43minplace\u001b[49m\u001b[38;5;241;43m=\u001b[39;49m\u001b[43minplace\u001b[49m\u001b[43m,\u001b[49m\n\u001b[0;32m   5588\u001b[0m \u001b[43m        \u001b[49m\u001b[43merrors\u001b[49m\u001b[38;5;241;43m=\u001b[39;49m\u001b[43merrors\u001b[49m\u001b[43m,\u001b[49m\n\u001b[0;32m   5589\u001b[0m \u001b[43m    \u001b[49m\u001b[43m)\u001b[49m\n",
      "File \u001b[1;32mc:\\Users\\kevin\\cdd\\TrabajoEspecial\\entorno\\Lib\\site-packages\\pandas\\core\\generic.py:4788\u001b[0m, in \u001b[0;36mNDFrame.drop\u001b[1;34m(self, labels, axis, index, columns, level, inplace, errors)\u001b[0m\n\u001b[0;32m   4786\u001b[0m \u001b[38;5;28;01mfor\u001b[39;00m axis, labels \u001b[38;5;129;01min\u001b[39;00m axes\u001b[38;5;241m.\u001b[39mitems():\n\u001b[0;32m   4787\u001b[0m     \u001b[38;5;28;01mif\u001b[39;00m labels \u001b[38;5;129;01mis\u001b[39;00m \u001b[38;5;129;01mnot\u001b[39;00m \u001b[38;5;28;01mNone\u001b[39;00m:\n\u001b[1;32m-> 4788\u001b[0m         obj \u001b[38;5;241m=\u001b[39m \u001b[43mobj\u001b[49m\u001b[38;5;241;43m.\u001b[39;49m\u001b[43m_drop_axis\u001b[49m\u001b[43m(\u001b[49m\u001b[43mlabels\u001b[49m\u001b[43m,\u001b[49m\u001b[43m \u001b[49m\u001b[43maxis\u001b[49m\u001b[43m,\u001b[49m\u001b[43m \u001b[49m\u001b[43mlevel\u001b[49m\u001b[38;5;241;43m=\u001b[39;49m\u001b[43mlevel\u001b[49m\u001b[43m,\u001b[49m\u001b[43m \u001b[49m\u001b[43merrors\u001b[49m\u001b[38;5;241;43m=\u001b[39;49m\u001b[43merrors\u001b[49m\u001b[43m)\u001b[49m\n\u001b[0;32m   4790\u001b[0m \u001b[38;5;28;01mif\u001b[39;00m inplace:\n\u001b[0;32m   4791\u001b[0m     \u001b[38;5;28mself\u001b[39m\u001b[38;5;241m.\u001b[39m_update_inplace(obj)\n",
      "File \u001b[1;32mc:\\Users\\kevin\\cdd\\TrabajoEspecial\\entorno\\Lib\\site-packages\\pandas\\core\\generic.py:4830\u001b[0m, in \u001b[0;36mNDFrame._drop_axis\u001b[1;34m(self, labels, axis, level, errors, only_slice)\u001b[0m\n\u001b[0;32m   4828\u001b[0m         new_axis \u001b[38;5;241m=\u001b[39m axis\u001b[38;5;241m.\u001b[39mdrop(labels, level\u001b[38;5;241m=\u001b[39mlevel, errors\u001b[38;5;241m=\u001b[39merrors)\n\u001b[0;32m   4829\u001b[0m     \u001b[38;5;28;01melse\u001b[39;00m:\n\u001b[1;32m-> 4830\u001b[0m         new_axis \u001b[38;5;241m=\u001b[39m \u001b[43maxis\u001b[49m\u001b[38;5;241;43m.\u001b[39;49m\u001b[43mdrop\u001b[49m\u001b[43m(\u001b[49m\u001b[43mlabels\u001b[49m\u001b[43m,\u001b[49m\u001b[43m \u001b[49m\u001b[43merrors\u001b[49m\u001b[38;5;241;43m=\u001b[39;49m\u001b[43merrors\u001b[49m\u001b[43m)\u001b[49m\n\u001b[0;32m   4831\u001b[0m     indexer \u001b[38;5;241m=\u001b[39m axis\u001b[38;5;241m.\u001b[39mget_indexer(new_axis)\n\u001b[0;32m   4833\u001b[0m \u001b[38;5;66;03m# Case for non-unique axis\u001b[39;00m\n\u001b[0;32m   4834\u001b[0m \u001b[38;5;28;01melse\u001b[39;00m:\n",
      "File \u001b[1;32mc:\\Users\\kevin\\cdd\\TrabajoEspecial\\entorno\\Lib\\site-packages\\pandas\\core\\indexes\\base.py:7070\u001b[0m, in \u001b[0;36mIndex.drop\u001b[1;34m(self, labels, errors)\u001b[0m\n\u001b[0;32m   7068\u001b[0m \u001b[38;5;28;01mif\u001b[39;00m mask\u001b[38;5;241m.\u001b[39many():\n\u001b[0;32m   7069\u001b[0m     \u001b[38;5;28;01mif\u001b[39;00m errors \u001b[38;5;241m!=\u001b[39m \u001b[38;5;124m\"\u001b[39m\u001b[38;5;124mignore\u001b[39m\u001b[38;5;124m\"\u001b[39m:\n\u001b[1;32m-> 7070\u001b[0m         \u001b[38;5;28;01mraise\u001b[39;00m \u001b[38;5;167;01mKeyError\u001b[39;00m(\u001b[38;5;124mf\u001b[39m\u001b[38;5;124m\"\u001b[39m\u001b[38;5;132;01m{\u001b[39;00mlabels[mask]\u001b[38;5;241m.\u001b[39mtolist()\u001b[38;5;132;01m}\u001b[39;00m\u001b[38;5;124m not found in axis\u001b[39m\u001b[38;5;124m\"\u001b[39m)\n\u001b[0;32m   7071\u001b[0m     indexer \u001b[38;5;241m=\u001b[39m indexer[\u001b[38;5;241m~\u001b[39mmask]\n\u001b[0;32m   7072\u001b[0m \u001b[38;5;28;01mreturn\u001b[39;00m \u001b[38;5;28mself\u001b[39m\u001b[38;5;241m.\u001b[39mdelete(indexer)\n",
      "\u001b[1;31mKeyError\u001b[0m: \"['orden'] not found in axis\""
     ]
    }
   ],
   "source": [
    "raw_dataset = raw_dataset.drop('orden', axis=1)\n",
    "raw_dataset = raw_dataset.drop('codigo', axis=1)\n",
    "raw_dataset = raw_dataset.drop('año', axis=1)\n"
   ]
  },
  {
   "cell_type": "markdown",
   "metadata": {},
   "source": [
    "Ahora en busca de nulos"
   ]
  },
  {
   "cell_type": "code",
   "execution_count": 33,
   "metadata": {},
   "outputs": [
    {
     "data": {
      "text/plain": [
       "sitios                      0\n",
       "fecha                       0\n",
       "campaña                     0\n",
       "tem_agua                    0\n",
       "tem_aire                    0\n",
       "od                          0\n",
       "ph                          1\n",
       "olores                      0\n",
       "color                       0\n",
       "espumas                     0\n",
       "mat_susp                    0\n",
       "colif_fecales_ufc_100ml     0\n",
       "escher_coli_ufc_100ml       0\n",
       "enteroc_ufc_100ml           0\n",
       "nitrato_mg_l                0\n",
       "nh4_mg_l                    0\n",
       "p_total_l_mg_l              1\n",
       "fosf_ortofos_mg_l           0\n",
       "dbo_mg_l                    1\n",
       "dqo_mg_l                    0\n",
       "turbiedad_ntu               0\n",
       "hidr_deriv_petr_ug_l        0\n",
       "cr_total_mg_l               0\n",
       "cd_total_mg_l               0\n",
       "clorofila_a_ug_l            0\n",
       "microcistina_ug_l           0\n",
       "ica                         1\n",
       "calidad_de_agua            15\n",
       "dtype: int64"
      ]
     },
     "execution_count": 33,
     "metadata": {},
     "output_type": "execute_result"
    }
   ],
   "source": [
    "raw_dataset.isna().sum()"
   ]
  },
  {
   "cell_type": "markdown",
   "metadata": {},
   "source": [
    "Busco en cada una de las columnas cuales valores van a ser considerados nulos"
   ]
  },
  {
   "cell_type": "code",
   "execution_count": 1,
   "metadata": {},
   "outputs": [
    {
     "ename": "NameError",
     "evalue": "name 'raw_dataset' is not defined",
     "output_type": "error",
     "traceback": [
      "\u001b[1;31m---------------------------------------------------------------------------\u001b[0m",
      "\u001b[1;31mNameError\u001b[0m                                 Traceback (most recent call last)",
      "Cell \u001b[1;32mIn[1], line 2\u001b[0m\n\u001b[0;32m      1\u001b[0m \u001b[38;5;66;03m#se revisa una por una las columnas\u001b[39;00m\n\u001b[1;32m----> 2\u001b[0m \u001b[38;5;28;01mfor\u001b[39;00m idx, val \u001b[38;5;129;01min\u001b[39;00m \u001b[43mraw_dataset\u001b[49m[\u001b[38;5;124m\"\u001b[39m\u001b[38;5;124mcalidad_de_agua\u001b[39m\u001b[38;5;124m\"\u001b[39m]\u001b[38;5;241m.\u001b[39mvalue_counts()\u001b[38;5;241m.\u001b[39mitems():\n\u001b[0;32m      3\u001b[0m   \u001b[38;5;28mprint\u001b[39m(idx, val)\n",
      "\u001b[1;31mNameError\u001b[0m: name 'raw_dataset' is not defined"
     ]
    }
   ],
   "source": [
    "#se revisa una por una las columnas\n",
    "for idx, val in raw_dataset[\"calidad_de_agua\"].value_counts().items():\n",
    "  print(idx, val)"
   ]
  },
  {
   "cell_type": "markdown",
   "metadata": {},
   "source": [
    "Remplazo por nulos los valores que no nos interesan, no nos aportan informacion relevante\n",
    "primero hago copia"
   ]
  },
  {
   "cell_type": "code",
   "execution_count": 49,
   "metadata": {},
   "outputs": [
    {
     "ename": "KeyError",
     "evalue": "'tem_agua'",
     "output_type": "error",
     "traceback": [
      "\u001b[1;31m---------------------------------------------------------------------------\u001b[0m",
      "\u001b[1;31mKeyError\u001b[0m                                  Traceback (most recent call last)",
      "File \u001b[1;32mc:\\Users\\kevin\\cdd\\TrabajoEspecial\\entorno\\Lib\\site-packages\\pandas\\core\\indexes\\base.py:3805\u001b[0m, in \u001b[0;36mIndex.get_loc\u001b[1;34m(self, key)\u001b[0m\n\u001b[0;32m   3804\u001b[0m \u001b[38;5;28;01mtry\u001b[39;00m:\n\u001b[1;32m-> 3805\u001b[0m     \u001b[38;5;28;01mreturn\u001b[39;00m \u001b[38;5;28;43mself\u001b[39;49m\u001b[38;5;241;43m.\u001b[39;49m\u001b[43m_engine\u001b[49m\u001b[38;5;241;43m.\u001b[39;49m\u001b[43mget_loc\u001b[49m\u001b[43m(\u001b[49m\u001b[43mcasted_key\u001b[49m\u001b[43m)\u001b[49m\n\u001b[0;32m   3806\u001b[0m \u001b[38;5;28;01mexcept\u001b[39;00m \u001b[38;5;167;01mKeyError\u001b[39;00m \u001b[38;5;28;01mas\u001b[39;00m err:\n",
      "File \u001b[1;32mindex.pyx:167\u001b[0m, in \u001b[0;36mpandas._libs.index.IndexEngine.get_loc\u001b[1;34m()\u001b[0m\n",
      "File \u001b[1;32mindex.pyx:196\u001b[0m, in \u001b[0;36mpandas._libs.index.IndexEngine.get_loc\u001b[1;34m()\u001b[0m\n",
      "File \u001b[1;32mpandas\\\\_libs\\\\hashtable_class_helper.pxi:7081\u001b[0m, in \u001b[0;36mpandas._libs.hashtable.PyObjectHashTable.get_item\u001b[1;34m()\u001b[0m\n",
      "File \u001b[1;32mpandas\\\\_libs\\\\hashtable_class_helper.pxi:7089\u001b[0m, in \u001b[0;36mpandas._libs.hashtable.PyObjectHashTable.get_item\u001b[1;34m()\u001b[0m\n",
      "\u001b[1;31mKeyError\u001b[0m: 'tem_agua'",
      "\nThe above exception was the direct cause of the following exception:\n",
      "\u001b[1;31mKeyError\u001b[0m                                  Traceback (most recent call last)",
      "Cell \u001b[1;32mIn[49], line 2\u001b[0m\n\u001b[0;32m      1\u001b[0m preprocessed_dataset \u001b[38;5;241m=\u001b[39m raw_dataset\u001b[38;5;241m.\u001b[39mcopy()\n\u001b[1;32m----> 2\u001b[0m preprocessed_dataset[\u001b[38;5;124m'\u001b[39m\u001b[38;5;124mtem_agua\u001b[39m\u001b[38;5;124m'\u001b[39m] \u001b[38;5;241m=\u001b[39m \u001b[43mpreprocessed_dataset\u001b[49m\u001b[43m[\u001b[49m\u001b[38;5;124;43m'\u001b[39;49m\u001b[38;5;124;43mtem_agua\u001b[39;49m\u001b[38;5;124;43m'\u001b[39;49m\u001b[43m]\u001b[49m\u001b[38;5;241m.\u001b[39mreplace([\u001b[38;5;124m'\u001b[39m\u001b[38;5;124msin equipo\u001b[39m\u001b[38;5;124m'\u001b[39m, \u001b[38;5;124m'\u001b[39m\u001b[38;5;124mno muestreó\u001b[39m\u001b[38;5;124m'\u001b[39m, \u001b[38;5;124m'\u001b[39m\u001b[38;5;124mno se midió\u001b[39m\u001b[38;5;124m'\u001b[39m, \u001b[38;5;124m'\u001b[39m\u001b[38;5;124men obra\u001b[39m\u001b[38;5;124m'\u001b[39m, \u001b[38;5;124m'\u001b[39m\u001b[38;5;124mno se muestreó\u001b[39m\u001b[38;5;124m'\u001b[39m, \u001b[38;5;124m'\u001b[39m\u001b[38;5;124minaccesible\u001b[39m\u001b[38;5;124m'\u001b[39m], pd\u001b[38;5;241m.\u001b[39mNA)\n\u001b[0;32m      3\u001b[0m preprocessed_dataset[\u001b[38;5;124m'\u001b[39m\u001b[38;5;124mtem_aire\u001b[39m\u001b[38;5;124m'\u001b[39m] \u001b[38;5;241m=\u001b[39m preprocessed_dataset[\u001b[38;5;124m'\u001b[39m\u001b[38;5;124mtem_aire\u001b[39m\u001b[38;5;124m'\u001b[39m]\u001b[38;5;241m.\u001b[39mreplace([\u001b[38;5;124m'\u001b[39m\u001b[38;5;124msin equipo\u001b[39m\u001b[38;5;124m'\u001b[39m, \u001b[38;5;124m'\u001b[39m\u001b[38;5;124mno muestreó\u001b[39m\u001b[38;5;124m'\u001b[39m, \u001b[38;5;124m'\u001b[39m\u001b[38;5;124mno se midió\u001b[39m\u001b[38;5;124m'\u001b[39m, \u001b[38;5;124m'\u001b[39m\u001b[38;5;124men obra\u001b[39m\u001b[38;5;124m'\u001b[39m, \u001b[38;5;124m'\u001b[39m\u001b[38;5;124mno se muestreó\u001b[39m\u001b[38;5;124m'\u001b[39m, \u001b[38;5;124m'\u001b[39m\u001b[38;5;124minaccesible\u001b[39m\u001b[38;5;124m'\u001b[39m], pd\u001b[38;5;241m.\u001b[39mNA)\n\u001b[0;32m      4\u001b[0m preprocessed_dataset[\u001b[38;5;124m'\u001b[39m\u001b[38;5;124mod\u001b[39m\u001b[38;5;124m'\u001b[39m] \u001b[38;5;241m=\u001b[39m preprocessed_dataset[\u001b[38;5;124m'\u001b[39m\u001b[38;5;124mod\u001b[39m\u001b[38;5;124m'\u001b[39m]\u001b[38;5;241m.\u001b[39mreplace([\u001b[38;5;124m'\u001b[39m\u001b[38;5;124msin equipo\u001b[39m\u001b[38;5;124m'\u001b[39m, \u001b[38;5;124m'\u001b[39m\u001b[38;5;124mno muestreó\u001b[39m\u001b[38;5;124m'\u001b[39m, \u001b[38;5;124m'\u001b[39m\u001b[38;5;124mno se midió\u001b[39m\u001b[38;5;124m'\u001b[39m, \u001b[38;5;124m'\u001b[39m\u001b[38;5;124men obra\u001b[39m\u001b[38;5;124m'\u001b[39m, \u001b[38;5;124m'\u001b[39m\u001b[38;5;124mno se muestreó\u001b[39m\u001b[38;5;124m'\u001b[39m, \u001b[38;5;124m'\u001b[39m\u001b[38;5;124minaccesible\u001b[39m\u001b[38;5;124m'\u001b[39m], pd\u001b[38;5;241m.\u001b[39mNA)\n",
      "File \u001b[1;32mc:\\Users\\kevin\\cdd\\TrabajoEspecial\\entorno\\Lib\\site-packages\\pandas\\core\\frame.py:4102\u001b[0m, in \u001b[0;36mDataFrame.__getitem__\u001b[1;34m(self, key)\u001b[0m\n\u001b[0;32m   4100\u001b[0m \u001b[38;5;28;01mif\u001b[39;00m \u001b[38;5;28mself\u001b[39m\u001b[38;5;241m.\u001b[39mcolumns\u001b[38;5;241m.\u001b[39mnlevels \u001b[38;5;241m>\u001b[39m \u001b[38;5;241m1\u001b[39m:\n\u001b[0;32m   4101\u001b[0m     \u001b[38;5;28;01mreturn\u001b[39;00m \u001b[38;5;28mself\u001b[39m\u001b[38;5;241m.\u001b[39m_getitem_multilevel(key)\n\u001b[1;32m-> 4102\u001b[0m indexer \u001b[38;5;241m=\u001b[39m \u001b[38;5;28;43mself\u001b[39;49m\u001b[38;5;241;43m.\u001b[39;49m\u001b[43mcolumns\u001b[49m\u001b[38;5;241;43m.\u001b[39;49m\u001b[43mget_loc\u001b[49m\u001b[43m(\u001b[49m\u001b[43mkey\u001b[49m\u001b[43m)\u001b[49m\n\u001b[0;32m   4103\u001b[0m \u001b[38;5;28;01mif\u001b[39;00m is_integer(indexer):\n\u001b[0;32m   4104\u001b[0m     indexer \u001b[38;5;241m=\u001b[39m [indexer]\n",
      "File \u001b[1;32mc:\\Users\\kevin\\cdd\\TrabajoEspecial\\entorno\\Lib\\site-packages\\pandas\\core\\indexes\\base.py:3812\u001b[0m, in \u001b[0;36mIndex.get_loc\u001b[1;34m(self, key)\u001b[0m\n\u001b[0;32m   3807\u001b[0m     \u001b[38;5;28;01mif\u001b[39;00m \u001b[38;5;28misinstance\u001b[39m(casted_key, \u001b[38;5;28mslice\u001b[39m) \u001b[38;5;129;01mor\u001b[39;00m (\n\u001b[0;32m   3808\u001b[0m         \u001b[38;5;28misinstance\u001b[39m(casted_key, abc\u001b[38;5;241m.\u001b[39mIterable)\n\u001b[0;32m   3809\u001b[0m         \u001b[38;5;129;01mand\u001b[39;00m \u001b[38;5;28many\u001b[39m(\u001b[38;5;28misinstance\u001b[39m(x, \u001b[38;5;28mslice\u001b[39m) \u001b[38;5;28;01mfor\u001b[39;00m x \u001b[38;5;129;01min\u001b[39;00m casted_key)\n\u001b[0;32m   3810\u001b[0m     ):\n\u001b[0;32m   3811\u001b[0m         \u001b[38;5;28;01mraise\u001b[39;00m InvalidIndexError(key)\n\u001b[1;32m-> 3812\u001b[0m     \u001b[38;5;28;01mraise\u001b[39;00m \u001b[38;5;167;01mKeyError\u001b[39;00m(key) \u001b[38;5;28;01mfrom\u001b[39;00m \u001b[38;5;21;01merr\u001b[39;00m\n\u001b[0;32m   3813\u001b[0m \u001b[38;5;28;01mexcept\u001b[39;00m \u001b[38;5;167;01mTypeError\u001b[39;00m:\n\u001b[0;32m   3814\u001b[0m     \u001b[38;5;66;03m# If we have a listlike key, _check_indexing_error will raise\u001b[39;00m\n\u001b[0;32m   3815\u001b[0m     \u001b[38;5;66;03m#  InvalidIndexError. Otherwise we fall through and re-raise\u001b[39;00m\n\u001b[0;32m   3816\u001b[0m     \u001b[38;5;66;03m#  the TypeError.\u001b[39;00m\n\u001b[0;32m   3817\u001b[0m     \u001b[38;5;28mself\u001b[39m\u001b[38;5;241m.\u001b[39m_check_indexing_error(key)\n",
      "\u001b[1;31mKeyError\u001b[0m: 'tem_agua'"
     ]
    }
   ],
   "source": [
    "preprocessed_dataset = raw_dataset.copy()\n",
    "preprocessed_dataset['tem_agua'] = preprocessed_dataset['tem_agua'].replace(['sin equipo', 'no muestreó', 'no se midió', 'en obra', 'no se muestreó', 'inaccesible'], pd.NA)\n",
    "preprocessed_dataset['tem_aire'] = preprocessed_dataset['tem_aire'].replace(['sin equipo', 'no muestreó', 'no se midió', 'en obra', 'no se muestreó', 'inaccesible'], pd.NA)\n",
    "preprocessed_dataset['od'] = preprocessed_dataset['od'].replace(['sin equipo', 'no muestreó', 'no se midió', 'en obra', 'no se muestreó', 'inaccesible'], pd.NA)\n",
    "preprocessed_dataset['ph'] = preprocessed_dataset['ph'].replace(['sin equipo', 'no muestreó', 'no se midió', 'en obra', 'no se muestreó', 'inaccesible'], pd.NA)\n",
    "preprocessed_dataset['olores'] = preprocessed_dataset['olores'].replace(['sin equipo', 'no muestreó', 'no se midió', 'en obra', 'no se muestreó', 'inaccesible'], pd.NA)\n",
    "preprocessed_dataset['color'] = preprocessed_dataset['color'].replace(['sin equipo', 'no muestreó', 'no se midió', 'en obra', 'no se muestreó', 'inaccesible'], pd.NA)                                                                            \n",
    "preprocessed_dataset['espumas'] = preprocessed_dataset['espumas'].replace(['sin equipo', 'no muestreó', 'no se midió', 'en obra', 'no se muestreó', 'inaccesible'], pd.NA)\n",
    "preprocessed_dataset['mat_susp'] = preprocessed_dataset['mat_susp'].replace(['sin equipo', 'no muestreó', 'no se midió', 'en obra', 'no se muestreó', 'inaccesible'], pd.NA)\n",
    "preprocessed_dataset['colif_fecales_ufc_100ml'] = preprocessed_dataset['colif_fecales_ufc_100ml'].replace(['sin equipo', 'no muestreó', 'no se midió', 'en obra', 'no se muestreó', 'inaccesible', 'sin muestra', 'envase sin muestra'], pd.NA)\n",
    "preprocessed_dataset['escher_coli_ufc_100ml'] = preprocessed_dataset['escher_coli_ufc_100ml'].replace(['sin equipo', 'no muestreó', 'no se midió', 'en obra', 'no se muestreó', 'inaccesible', 'sin muestra', 'envase sin muestra'], pd.NA)\n",
    "preprocessed_dataset['enteroc_ufc_100ml'] = preprocessed_dataset['enteroc_ufc_100ml'].replace(['sin equipo', 'no muestreó', 'no se midió', 'en obra', 'no se muestreó', 'inaccesible', 'sin muestra', 'envase sin muestra'], pd.NA)\n",
    "preprocessed_dataset['nitrato_mg_l'] = preprocessed_dataset['nitrato_mg_l'].replace(['sin equipo', 'no muestreó', 'no se midió', 'en obra', 'no se muestreó', 'inaccesible', 'sin muestra', 'envase sin muestra'], pd.NA)\n",
    "preprocessed_dataset['nh4_mg_l'] = preprocessed_dataset['nh4_mg_l'].replace(['sin equipo', 'no muestreó', 'no se midió', 'en obra', 'no se muestreó', 'inaccesible', 'sin muestra', 'envase sin muestra'], pd.NA)\n",
    "preprocessed_dataset['p_total_l_mg_l'] = preprocessed_dataset['p_total_l_mg_l'].replace(['sin equipo', 'no muestreó', 'no se midió', 'en obra', 'no se muestreó', 'inaccesible', 'sin muestra', 'envase sin muestra'], pd.NA)\n",
    "preprocessed_dataset['fosf_ortofos_mg_l'] = preprocessed_dataset['fosf_ortofos_mg_l'].replace(['sin equipo', 'no muestreó', 'no se midió', 'en obra', 'no se muestreó', 'inaccesible', 'sin muestra', 'envase sin muestra'], pd.NA)\n",
    "preprocessed_dataset['dbo_mg_l'] = preprocessed_dataset['dbo_mg_l'].replace(['sin equipo', 'no muestreó', 'no se midió', 'en obra', 'no se muestreó', 'inaccesible', 'sin muestra', 'envase sin muestra'], pd.NA)\n",
    "preprocessed_dataset['dqo_mg_l'] = preprocessed_dataset['dqo_mg_l'].replace(['sin equipo', 'no muestreó', 'no se midió', 'en obra', 'no se muestreó', 'inaccesible', 'sin muestra', 'envase sin muestra'], pd.NA)\n",
    "preprocessed_dataset['turbiedad_ntu'] = preprocessed_dataset['turbiedad_ntu'].replace(['sin equipo', 'no muestreó', 'no se midió', 'en obra', 'no se muestreó', 'inaccesible', 'sin muestra', 'envase sin muestra'], pd.NA)\n",
    "preprocessed_dataset['hidr_deriv_petr_ug_l'] = preprocessed_dataset['hidr_deriv_petr_ug_l'].replace(['sin equipo', 'no muestreó', 'no se midió', 'en obra', 'no se muestreó', 'inaccesible', 'sin muestra', 'envase sin muestra'], pd.NA)\n",
    "preprocessed_dataset['cr_total_mg_l'] = preprocessed_dataset['cr_total_mg_l'].replace(['sin equipo', 'no muestreó', 'no se midió', 'en obra', 'no se muestreó', 'inaccesible', 'sin muestra', 'envase sin muestra'], pd.NA)\n",
    "preprocessed_dataset['cd_total_mg_l'] = preprocessed_dataset['cd_total_mg_l'].replace(['sin equipo', 'no muestreó', 'no se midió', 'en obra', 'no se muestreó', 'inaccesible', 'sin muestra', 'envase sin muestra'], pd.NA)\n",
    "preprocessed_dataset['clorofila_a_ug_l'] = preprocessed_dataset['clorofila_a_ug_l'].replace(['sin equipo', 'no muestreó', 'no se midió', 'en obra', 'no se muestreó', 'inaccesible', 'sin muestra', 'envase sin muestra', 'falto un frasco'], pd.NA)\n",
    "preprocessed_dataset['microcistina_ug_l'] = preprocessed_dataset['microcistina_ug_l'].replace(['sin equipo', 'no muestreó', 'no se midió', 'en obra', 'no se muestreó', 'inaccesible', 'sin muestra', 'envase sin muestra', 'Dato atípico'], pd.NA)\n",
    "preprocessed_dataset['ica'] = preprocessed_dataset['ica'].replace(['sin equipo', 'no muestreó', 'no se midió', 'en obra', 'no se muestreó', 'inaccesible', 'sin muestra', 'envase sin muestra', 'no se pudo calcular'], pd.NA)\n",
    "preprocessed_dataset['calidad_de_agua'] = preprocessed_dataset['calidad_de_agua'].replace(['sin equipo', 'no muestreó', 'no se midió', 'en obra', 'no se muestreó', 'inaccesible', 'sin muestra', 'envase sin muestra'], pd.NA)\n",
    "\n",
    "\n"
   ]
  },
  {
   "cell_type": "markdown",
   "metadata": {},
   "source": [
    "Los valores ya fueron pasados a null. Ahora hay que hacer los cambios de tipos de variable y ver que hacer con los < y >"
   ]
  },
  {
   "cell_type": "code",
   "execution_count": 2,
   "metadata": {},
   "outputs": [
    {
     "ename": "NameError",
     "evalue": "name 'preprocessed_dataset' is not defined",
     "output_type": "error",
     "traceback": [
      "\u001b[1;31m---------------------------------------------------------------------------\u001b[0m",
      "\u001b[1;31mNameError\u001b[0m                                 Traceback (most recent call last)",
      "Cell \u001b[1;32mIn[2], line 1\u001b[0m\n\u001b[1;32m----> 1\u001b[0m \u001b[43mpreprocessed_dataset\u001b[49m\u001b[38;5;241m.\u001b[39minfo()\n",
      "\u001b[1;31mNameError\u001b[0m: name 'preprocessed_dataset' is not defined"
     ]
    }
   ],
   "source": [
    "preprocessed_dataset.info()"
   ]
  },
  {
   "cell_type": "markdown",
   "metadata": {},
   "source": [
    "Para poder trabajar con con ciertas columnas hace falta hacer algunas transformaciones a las columnas campana, olor, color, espumas, mat_sup, calidad_de_agua.\n",
    "\n",
    "Con respecto a la columna campana aplicamos la transformacion ordinal-encoding asumiendo un orden tal que 0-verano,1-otono,2-invierno,3-primavera (como es durante el anio)\n",
    "\n",
    "Para las columnas olores, color, espumas,mat_susp reemplazamos con 0 la ausencia y con 1 la prescencia.\n",
    "\n",
    "Por ultimo para la columna calidad_de_agua sera 0-muy deteriorada y 1-extremadamente deteriorada.\n",
    "\n"
   ]
  },
  {
   "cell_type": "code",
   "execution_count": 11,
   "metadata": {},
   "outputs": [
    {
     "data": {
      "text/plain": [
       "color\n",
       "0    142\n",
       "1      9\n",
       "Name: count, dtype: int64"
      ]
     },
     "execution_count": 11,
     "metadata": {},
     "output_type": "execute_result"
    }
   ],
   "source": [
    "import pandas as pd\n",
    "\n",
    "\n",
    "raw_dataset= pd.read_csv(\"Calidad_de_agus_2023.csv\")\n",
    "preprocessed_dataset= raw_dataset.copy()\n",
    "\n",
    "#Realizo la copia aca por que no toma lo de otras lineas\n",
    "\n",
    "#analizamos los datos que tienen, ya que aveces algunos datos se anotan de distintas manera o\n",
    "#difieren en una letra lo que hace que sea un dato completamente distinto\n",
    "preprocessed_dataset['olores'].value_counts()\n",
    "preprocessed_dataset['color'].value_counts()\n",
    "preprocessed_dataset['campaña'].value_counts()\n",
    "preprocessed_dataset['espumas'].value_counts()\n",
    "preprocessed_dataset['mat_susp'].value_counts()\n",
    "preprocessed_dataset['calidad_de_agua'].value_counts()\n",
    "\n",
    "\n",
    "#agrego las que faltan \n",
    "#preprocessed_dataset['olores'] = preprocessed_dataset['olores'].replace(['sin equipo', 'no muestreó', 'no se midió', 'en obra', 'no se muestreó', 'inaccesible'], pd.NA)\n",
    "\n",
    "preprocessed_dataset['color'] = preprocessed_dataset['color'].replace(['sin equipo', 'no muestreó', 'no se midió', 'en obra', 'no se muestreó', 'inaccesible'], pd.NA)\n",
    "\n",
    "preprocessed_dataset['mat_susp'] = preprocessed_dataset['mat_susp'].replace(['sin equipo', 'no muestreó', 'no se midió', 'en obra', 'no se muestreó', 'inaccesible'], pd.NA)\n",
    "\n",
    "preprocessed_dataset['espumas'] = preprocessed_dataset['espumas'].replace(['sin equipo', 'no muestreó', 'no se midió', 'en obra', 'no se muestreó', 'inaccesible'], pd.NA)\n",
    "\n",
    "preprocessed_dataset['campaña'] = preprocessed_dataset['campaña'].replace(['sin equipo', 'no muestreó', 'no se midió', 'en obra', 'no se muestreó', 'inaccesible'], pd.NA)\n",
    "\n",
    "preprocessed_dataset['calidad_de_agua'] = preprocessed_dataset['calidad_de_agua'].replace(['sin equipo', 'no muestreó', 'no se midió', 'en obra', 'no se muestreó', 'inaccesible'], pd.NA)\n",
    "\n",
    "#Transformacion campana\n",
    "\n",
    "preprocessed_dataset['campaña']=preprocessed_dataset['campaña'].replace(['Verano','otoño','invierno','primavera'],['0','1','2','3'])\n",
    "preprocessed_dataset['campaña'].astype(int)\n",
    "#preprocessed_dataset['campaña'].value_counts()\n",
    "\n",
    "#transformacion olores, color, espumas,mat_susp\n",
    "preprocessed_dataset['olores']=preprocessed_dataset['campaña'].replace(['Ausencia','Presencia'],['0','1'])\n",
    "preprocessed_dataset['color']=preprocessed_dataset['color'].replace(['Ausencia','Presencia'],['0','1'])\n",
    "preprocessed_dataset['espumas']=preprocessed_dataset['espumas'].replace(['Ausencia','Presencia'],['0','1'])\n",
    "preprocessed_dataset['mat_susp']=preprocessed_dataset['mat_susp'].replace(['Ausencia','Presencia'],['0','1'])\n",
    "\n",
    "#transformacion calidad_de_agua\n",
    "preprocessed_dataset['calidad_de_agua']=preprocessed_dataset['calidad_de_agua'].replace(['Muy deteriorada','Muy deteriorada ','Extremadamente deteriorada'],['0','0','1'])\n",
    "preprocessed_dataset['color'].value_counts()\n"
   ]
  }
 ],
 "metadata": {
  "kernelspec": {
   "display_name": "env",
   "language": "python",
   "name": "python3"
  },
  "language_info": {
   "codemirror_mode": {
    "name": "ipython",
    "version": 3
   },
   "file_extension": ".py",
   "mimetype": "text/x-python",
   "name": "python",
   "nbconvert_exporter": "python",
   "pygments_lexer": "ipython3",
   "version": "3.12.5"
  }
 },
 "nbformat": 4,
 "nbformat_minor": 2
}

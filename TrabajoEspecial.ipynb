{
 "cells": [
  {
   "cell_type": "markdown",
   "metadata": {},
   "source": [
    "Cambio a delimitado por \",\""
   ]
  },
  {
   "cell_type": "code",
   "execution_count": 1,
   "metadata": {},
   "outputs": [
    {
     "ename": "NameError",
     "evalue": "name 'pd' is not defined",
     "output_type": "error",
     "traceback": [
      "\u001b[1;31m---------------------------------------------------------------------------\u001b[0m",
      "\u001b[1;31mNameError\u001b[0m                                 Traceback (most recent call last)",
      "Cell \u001b[1;32mIn[1], line 1\u001b[0m\n\u001b[1;32m----> 1\u001b[0m df \u001b[38;5;241m=\u001b[39m \u001b[43mpd\u001b[49m\u001b[38;5;241m.\u001b[39mread_csv(\u001b[38;5;124m'\u001b[39m\u001b[38;5;124mCalidad_de_agus_2023.csv\u001b[39m\u001b[38;5;124m'\u001b[39m, delimiter\u001b[38;5;241m=\u001b[39m\u001b[38;5;124m'\u001b[39m\u001b[38;5;124m;\u001b[39m\u001b[38;5;124m'\u001b[39m)\n\u001b[0;32m      3\u001b[0m df\u001b[38;5;241m.\u001b[39mto_csv(\u001b[38;5;124m'\u001b[39m\u001b[38;5;124mCalidad_de_agus_2023.csv\u001b[39m\u001b[38;5;124m'\u001b[39m, index\u001b[38;5;241m=\u001b[39m\u001b[38;5;28;01mFalse\u001b[39;00m)\n",
      "\u001b[1;31mNameError\u001b[0m: name 'pd' is not defined"
     ]
    }
   ],
   "source": [
    "\n",
    "df = pd.read_csv('Calidad_de_agus_2023.csv', delimiter=';')\n",
    "\n",
    "df.to_csv('Calidad_de_agus_2023.csv', index=False)"
   ]
  },
  {
   "cell_type": "markdown",
   "metadata": {},
   "source": [
    "LEO DATOS"
   ]
  },
  {
   "cell_type": "code",
   "execution_count": 1,
   "metadata": {},
   "outputs": [
    {
     "data": {
      "text/html": [
       "<div>\n",
       "<style scoped>\n",
       "    .dataframe tbody tr th:only-of-type {\n",
       "        vertical-align: middle;\n",
       "    }\n",
       "\n",
       "    .dataframe tbody tr th {\n",
       "        vertical-align: top;\n",
       "    }\n",
       "\n",
       "    .dataframe thead th {\n",
       "        text-align: right;\n",
       "    }\n",
       "</style>\n",
       "<table border=\"1\" class=\"dataframe\">\n",
       "  <thead>\n",
       "    <tr style=\"text-align: right;\">\n",
       "      <th></th>\n",
       "      <th>orden</th>\n",
       "      <th>sitios</th>\n",
       "      <th>codigo</th>\n",
       "      <th>fecha</th>\n",
       "      <th>año</th>\n",
       "      <th>campaña</th>\n",
       "      <th>tem_agua</th>\n",
       "      <th>tem_aire</th>\n",
       "      <th>od</th>\n",
       "      <th>ph</th>\n",
       "      <th>...</th>\n",
       "      <th>dbo_mg_l</th>\n",
       "      <th>dqo_mg_l</th>\n",
       "      <th>turbiedad_ntu</th>\n",
       "      <th>hidr_deriv_petr_ug_l</th>\n",
       "      <th>cr_total_mg_l</th>\n",
       "      <th>cd_total_mg_l</th>\n",
       "      <th>clorofila_a_ug_l</th>\n",
       "      <th>microcistina_ug_l</th>\n",
       "      <th>ica</th>\n",
       "      <th>calidad_de_agua</th>\n",
       "    </tr>\n",
       "  </thead>\n",
       "  <tbody>\n",
       "    <tr>\n",
       "      <th>0</th>\n",
       "      <td>1</td>\n",
       "      <td>Canal Villanueva y Río Luján</td>\n",
       "      <td>TI001</td>\n",
       "      <td>22/2/2023</td>\n",
       "      <td>2023</td>\n",
       "      <td>Verano</td>\n",
       "      <td>26</td>\n",
       "      <td>24</td>\n",
       "      <td>6.59</td>\n",
       "      <td>7.24</td>\n",
       "      <td>...</td>\n",
       "      <td>&lt;2.0</td>\n",
       "      <td>&lt;30</td>\n",
       "      <td>29</td>\n",
       "      <td>&lt;0.10</td>\n",
       "      <td>&lt;0.005</td>\n",
       "      <td>&lt;0.001</td>\n",
       "      <td>0.87</td>\n",
       "      <td>&lt;0.15</td>\n",
       "      <td>53</td>\n",
       "      <td>Muy deteriorada</td>\n",
       "    </tr>\n",
       "    <tr>\n",
       "      <th>1</th>\n",
       "      <td>1</td>\n",
       "      <td>Canal Villanueva y Río Luján</td>\n",
       "      <td>TI001</td>\n",
       "      <td>10/5/2023</td>\n",
       "      <td>2023</td>\n",
       "      <td>otoño</td>\n",
       "      <td>18</td>\n",
       "      <td>12</td>\n",
       "      <td>7.09</td>\n",
       "      <td>7.22</td>\n",
       "      <td>...</td>\n",
       "      <td>&lt;2.0</td>\n",
       "      <td>&lt;30</td>\n",
       "      <td>45.00</td>\n",
       "      <td>&lt;0.10</td>\n",
       "      <td>&lt;0.005</td>\n",
       "      <td>&lt;1.0</td>\n",
       "      <td>2.56</td>\n",
       "      <td>&lt;0.15</td>\n",
       "      <td>39</td>\n",
       "      <td>Extremadamente deteriorada</td>\n",
       "    </tr>\n",
       "    <tr>\n",
       "      <th>2</th>\n",
       "      <td>1</td>\n",
       "      <td>Canal Villanueva y Río Luján</td>\n",
       "      <td>TI001</td>\n",
       "      <td>23/8/2023</td>\n",
       "      <td>2023</td>\n",
       "      <td>invierno</td>\n",
       "      <td>16.3</td>\n",
       "      <td>11</td>\n",
       "      <td>8.53</td>\n",
       "      <td>7.27</td>\n",
       "      <td>...</td>\n",
       "      <td>&lt;2.0</td>\n",
       "      <td>&lt;30</td>\n",
       "      <td>38</td>\n",
       "      <td>&lt;0.10</td>\n",
       "      <td>&lt;0.005</td>\n",
       "      <td>&lt;0.001</td>\n",
       "      <td>1.02</td>\n",
       "      <td>&lt;0.15</td>\n",
       "      <td>48</td>\n",
       "      <td>Muy deteriorada</td>\n",
       "    </tr>\n",
       "    <tr>\n",
       "      <th>3</th>\n",
       "      <td>1</td>\n",
       "      <td>Canal Villanueva y Río Luján</td>\n",
       "      <td>TI001</td>\n",
       "      <td>14/11/2023</td>\n",
       "      <td>2023</td>\n",
       "      <td>primavera</td>\n",
       "      <td>23</td>\n",
       "      <td>25</td>\n",
       "      <td>4.72</td>\n",
       "      <td>6.57</td>\n",
       "      <td>...</td>\n",
       "      <td>&lt;2.0</td>\n",
       "      <td>&lt;30</td>\n",
       "      <td>24</td>\n",
       "      <td>&lt;0.10</td>\n",
       "      <td>&lt;0.005</td>\n",
       "      <td>&lt;0.001</td>\n",
       "      <td>&lt;10.00</td>\n",
       "      <td>&lt;0.15</td>\n",
       "      <td>42</td>\n",
       "      <td>Extremadamente deteriorada</td>\n",
       "    </tr>\n",
       "    <tr>\n",
       "      <th>4</th>\n",
       "      <td>2</td>\n",
       "      <td>Río Lujan y Arroyo Caraguatá</td>\n",
       "      <td>TI006</td>\n",
       "      <td>22/2/2023</td>\n",
       "      <td>2023</td>\n",
       "      <td>Verano</td>\n",
       "      <td>26.8</td>\n",
       "      <td>25</td>\n",
       "      <td>5.94</td>\n",
       "      <td>6.96</td>\n",
       "      <td>...</td>\n",
       "      <td>2.1</td>\n",
       "      <td>&lt;30</td>\n",
       "      <td>24</td>\n",
       "      <td>&lt;0.10</td>\n",
       "      <td>&lt;0.005</td>\n",
       "      <td>&lt;0.001</td>\n",
       "      <td>10.61</td>\n",
       "      <td>0.21</td>\n",
       "      <td>39</td>\n",
       "      <td>Extremadamente deteriorada</td>\n",
       "    </tr>\n",
       "    <tr>\n",
       "      <th>...</th>\n",
       "      <td>...</td>\n",
       "      <td>...</td>\n",
       "      <td>...</td>\n",
       "      <td>...</td>\n",
       "      <td>...</td>\n",
       "      <td>...</td>\n",
       "      <td>...</td>\n",
       "      <td>...</td>\n",
       "      <td>...</td>\n",
       "      <td>...</td>\n",
       "      <td>...</td>\n",
       "      <td>...</td>\n",
       "      <td>...</td>\n",
       "      <td>...</td>\n",
       "      <td>...</td>\n",
       "      <td>...</td>\n",
       "      <td>...</td>\n",
       "      <td>...</td>\n",
       "      <td>...</td>\n",
       "      <td>...</td>\n",
       "      <td>...</td>\n",
       "    </tr>\n",
       "    <tr>\n",
       "      <th>164</th>\n",
       "      <td>42</td>\n",
       "      <td>Balneario Municipal</td>\n",
       "      <td>BS094</td>\n",
       "      <td>23/8/2023</td>\n",
       "      <td>2023</td>\n",
       "      <td>invierno</td>\n",
       "      <td>12</td>\n",
       "      <td>13</td>\n",
       "      <td>9.41</td>\n",
       "      <td>8.67</td>\n",
       "      <td>...</td>\n",
       "      <td>2.3</td>\n",
       "      <td>66</td>\n",
       "      <td>75</td>\n",
       "      <td>&lt;0.10</td>\n",
       "      <td>&lt;0.005</td>\n",
       "      <td>&lt;0.001</td>\n",
       "      <td>19.25</td>\n",
       "      <td>&lt;0.15</td>\n",
       "      <td>36</td>\n",
       "      <td>Extremadamente deteriorada</td>\n",
       "    </tr>\n",
       "    <tr>\n",
       "      <th>165</th>\n",
       "      <td>42</td>\n",
       "      <td>Playa La Balandra</td>\n",
       "      <td>BS093</td>\n",
       "      <td>22/2/2023</td>\n",
       "      <td>2023</td>\n",
       "      <td>Verano</td>\n",
       "      <td>20</td>\n",
       "      <td>23</td>\n",
       "      <td>5.8</td>\n",
       "      <td>7.47</td>\n",
       "      <td>...</td>\n",
       "      <td>3.4</td>\n",
       "      <td>58</td>\n",
       "      <td>17</td>\n",
       "      <td>&lt;0.10</td>\n",
       "      <td>&lt;0.005</td>\n",
       "      <td>&lt;0.001</td>\n",
       "      <td>&lt;0.10</td>\n",
       "      <td>&gt;5.00</td>\n",
       "      <td>no se pudo calcular</td>\n",
       "      <td>NaN</td>\n",
       "    </tr>\n",
       "    <tr>\n",
       "      <th>166</th>\n",
       "      <td>42</td>\n",
       "      <td>Playa La Balandra</td>\n",
       "      <td>BS093</td>\n",
       "      <td>10/5/2023</td>\n",
       "      <td>2023</td>\n",
       "      <td>otoño</td>\n",
       "      <td>18</td>\n",
       "      <td>13</td>\n",
       "      <td>5.93</td>\n",
       "      <td>8.35</td>\n",
       "      <td>...</td>\n",
       "      <td>2.10</td>\n",
       "      <td>&lt;30</td>\n",
       "      <td>32.00</td>\n",
       "      <td>&lt;0.10</td>\n",
       "      <td>&lt;0.005</td>\n",
       "      <td>&lt;1.0</td>\n",
       "      <td>54.87</td>\n",
       "      <td>&lt;0.15</td>\n",
       "      <td>36</td>\n",
       "      <td>Extremadamente deteriorada</td>\n",
       "    </tr>\n",
       "    <tr>\n",
       "      <th>167</th>\n",
       "      <td>42</td>\n",
       "      <td>Playa La Balandra</td>\n",
       "      <td>BS093</td>\n",
       "      <td>14/11/2023</td>\n",
       "      <td>2023</td>\n",
       "      <td>primavera</td>\n",
       "      <td>20</td>\n",
       "      <td>14</td>\n",
       "      <td>8.22</td>\n",
       "      <td>8.30</td>\n",
       "      <td>...</td>\n",
       "      <td>&lt;2.0</td>\n",
       "      <td>48</td>\n",
       "      <td>110</td>\n",
       "      <td>&lt;0.10</td>\n",
       "      <td>0</td>\n",
       "      <td>&lt;0.001</td>\n",
       "      <td>37.4</td>\n",
       "      <td>&lt;0.15</td>\n",
       "      <td>35</td>\n",
       "      <td>Extremadamente deteriorada</td>\n",
       "    </tr>\n",
       "    <tr>\n",
       "      <th>168</th>\n",
       "      <td>43</td>\n",
       "      <td>Playa La Balandra</td>\n",
       "      <td>BS093</td>\n",
       "      <td>23/8/2023</td>\n",
       "      <td>2023</td>\n",
       "      <td>invierno</td>\n",
       "      <td>12</td>\n",
       "      <td>10</td>\n",
       "      <td>8.96</td>\n",
       "      <td>8.09</td>\n",
       "      <td>...</td>\n",
       "      <td>2.5</td>\n",
       "      <td>67</td>\n",
       "      <td>50</td>\n",
       "      <td>&lt;0.10</td>\n",
       "      <td>&lt;0.005</td>\n",
       "      <td>&lt;0.001</td>\n",
       "      <td>45.07</td>\n",
       "      <td>0.79</td>\n",
       "      <td>38</td>\n",
       "      <td>Extremadamente deteriorada</td>\n",
       "    </tr>\n",
       "  </tbody>\n",
       "</table>\n",
       "<p>169 rows × 31 columns</p>\n",
       "</div>"
      ],
      "text/plain": [
       "     orden                        sitios codigo       fecha   año    campaña  \\\n",
       "0        1  Canal Villanueva y Río Luján  TI001   22/2/2023  2023     Verano   \n",
       "1        1  Canal Villanueva y Río Luján  TI001   10/5/2023  2023      otoño   \n",
       "2        1  Canal Villanueva y Río Luján  TI001   23/8/2023  2023   invierno   \n",
       "3        1  Canal Villanueva y Río Luján  TI001  14/11/2023  2023  primavera   \n",
       "4        2  Río Lujan y Arroyo Caraguatá  TI006   22/2/2023  2023     Verano   \n",
       "..     ...                           ...    ...         ...   ...        ...   \n",
       "164     42           Balneario Municipal  BS094   23/8/2023  2023   invierno   \n",
       "165     42             Playa La Balandra  BS093   22/2/2023  2023     Verano   \n",
       "166     42             Playa La Balandra  BS093   10/5/2023  2023      otoño   \n",
       "167     42             Playa La Balandra  BS093  14/11/2023  2023  primavera   \n",
       "168     43             Playa La Balandra  BS093   23/8/2023  2023   invierno   \n",
       "\n",
       "    tem_agua tem_aire    od    ph  ... dbo_mg_l dqo_mg_l turbiedad_ntu  \\\n",
       "0         26       24  6.59  7.24  ...     <2.0      <30            29   \n",
       "1         18       12  7.09  7.22  ...     <2.0      <30         45.00   \n",
       "2       16.3       11  8.53  7.27  ...     <2.0      <30            38   \n",
       "3         23       25  4.72  6.57  ...     <2.0      <30            24   \n",
       "4       26.8       25  5.94  6.96  ...      2.1      <30            24   \n",
       "..       ...      ...   ...   ...  ...      ...      ...           ...   \n",
       "164       12       13  9.41  8.67  ...      2.3       66            75   \n",
       "165       20       23   5.8  7.47  ...      3.4       58            17   \n",
       "166       18       13  5.93  8.35  ...     2.10      <30         32.00   \n",
       "167       20       14  8.22  8.30  ...     <2.0       48           110   \n",
       "168       12       10  8.96  8.09  ...      2.5       67            50   \n",
       "\n",
       "    hidr_deriv_petr_ug_l cr_total_mg_l cd_total_mg_l clorofila_a_ug_l  \\\n",
       "0                  <0.10        <0.005        <0.001             0.87   \n",
       "1                  <0.10        <0.005          <1.0             2.56   \n",
       "2                  <0.10        <0.005        <0.001             1.02   \n",
       "3                  <0.10        <0.005        <0.001           <10.00   \n",
       "4                  <0.10        <0.005        <0.001            10.61   \n",
       "..                   ...           ...           ...              ...   \n",
       "164                <0.10        <0.005        <0.001            19.25   \n",
       "165                <0.10        <0.005        <0.001            <0.10   \n",
       "166                <0.10        <0.005          <1.0            54.87   \n",
       "167                <0.10             0        <0.001             37.4   \n",
       "168                <0.10        <0.005        <0.001            45.07   \n",
       "\n",
       "    microcistina_ug_l                  ica             calidad_de_agua  \n",
       "0               <0.15                   53            Muy deteriorada   \n",
       "1               <0.15                   39  Extremadamente deteriorada  \n",
       "2               <0.15                   48             Muy deteriorada  \n",
       "3               <0.15                   42  Extremadamente deteriorada  \n",
       "4                0.21                   39  Extremadamente deteriorada  \n",
       "..                ...                  ...                         ...  \n",
       "164             <0.15                   36  Extremadamente deteriorada  \n",
       "165             >5.00  no se pudo calcular                         NaN  \n",
       "166             <0.15                   36  Extremadamente deteriorada  \n",
       "167             <0.15                   35  Extremadamente deteriorada  \n",
       "168              0.79                   38  Extremadamente deteriorada  \n",
       "\n",
       "[169 rows x 31 columns]"
      ]
     },
     "execution_count": 1,
     "metadata": {},
     "output_type": "execute_result"
    }
   ],
   "source": [
    "import pandas as pd\n",
    "\n",
    "# abrimos el archivo usando una función específica de pandas\n",
    "raw_dataset = pd.read_csv(\"Calidad_de_agus_2023.csv\")\n",
    "\n",
    "raw_dataset"
   ]
  },
  {
   "cell_type": "markdown",
   "metadata": {},
   "source": [
    "Hago un head para ver de que tratan los datos"
   ]
  },
  {
   "cell_type": "code",
   "execution_count": 6,
   "metadata": {},
   "outputs": [
    {
     "data": {
      "text/html": [
       "<div>\n",
       "<style scoped>\n",
       "    .dataframe tbody tr th:only-of-type {\n",
       "        vertical-align: middle;\n",
       "    }\n",
       "\n",
       "    .dataframe tbody tr th {\n",
       "        vertical-align: top;\n",
       "    }\n",
       "\n",
       "    .dataframe thead th {\n",
       "        text-align: right;\n",
       "    }\n",
       "</style>\n",
       "<table border=\"1\" class=\"dataframe\">\n",
       "  <thead>\n",
       "    <tr style=\"text-align: right;\">\n",
       "      <th></th>\n",
       "      <th>orden,sitios,codigo,fecha,año,campaña,tem_agua,tem_aire,od,ph,olores,color,espumas,mat_susp,colif_fecales_ufc_100ml,escher_coli_ufc_100ml,enteroc_ufc_100ml,nitrato_mg_l,nh4_mg_l,p_total_l_mg_l,fosf_ortofos_mg_l,dbo_mg_l,dqo_mg_l,turbiedad_ntu,hidr_deriv_petr_ug_l,cr_total_mg_l,cd_total_mg_l,clorofila_a_ug_l,microcistina_ug_l,ica,calidad_de_agua</th>\n",
       "    </tr>\n",
       "  </thead>\n",
       "  <tbody>\n",
       "    <tr>\n",
       "      <th>0</th>\n",
       "      <td>1,Canal Villanueva y Río Luján,TI001,22/2/2023...</td>\n",
       "    </tr>\n",
       "    <tr>\n",
       "      <th>1</th>\n",
       "      <td>1,Canal Villanueva y Río Luján,TI001,10/5/2023...</td>\n",
       "    </tr>\n",
       "    <tr>\n",
       "      <th>2</th>\n",
       "      <td>1,Canal Villanueva y Río Luján,TI001,23/8/2023...</td>\n",
       "    </tr>\n",
       "    <tr>\n",
       "      <th>3</th>\n",
       "      <td>1,Canal Villanueva y Río Luján,TI001,14/11/202...</td>\n",
       "    </tr>\n",
       "    <tr>\n",
       "      <th>4</th>\n",
       "      <td>2,Río Lujan y Arroyo Caraguatá,TI006,22/2/2023...</td>\n",
       "    </tr>\n",
       "  </tbody>\n",
       "</table>\n",
       "</div>"
      ],
      "text/plain": [
       "  orden,sitios,codigo,fecha,año,campaña,tem_agua,tem_aire,od,ph,olores,color,espumas,mat_susp,colif_fecales_ufc_100ml,escher_coli_ufc_100ml,enteroc_ufc_100ml,nitrato_mg_l,nh4_mg_l,p_total_l_mg_l,fosf_ortofos_mg_l,dbo_mg_l,dqo_mg_l,turbiedad_ntu,hidr_deriv_petr_ug_l,cr_total_mg_l,cd_total_mg_l,clorofila_a_ug_l,microcistina_ug_l,ica,calidad_de_agua\n",
       "0  1,Canal Villanueva y Río Luján,TI001,22/2/2023...                                                                                                                                                                                                                                                                                                        \n",
       "1  1,Canal Villanueva y Río Luján,TI001,10/5/2023...                                                                                                                                                                                                                                                                                                        \n",
       "2  1,Canal Villanueva y Río Luján,TI001,23/8/2023...                                                                                                                                                                                                                                                                                                        \n",
       "3  1,Canal Villanueva y Río Luján,TI001,14/11/202...                                                                                                                                                                                                                                                                                                        \n",
       "4  2,Río Lujan y Arroyo Caraguatá,TI006,22/2/2023...                                                                                                                                                                                                                                                                                                        "
      ]
     },
     "execution_count": 6,
     "metadata": {},
     "output_type": "execute_result"
    }
   ],
   "source": [
    "raw_dataset.head()"
   ]
  },
  {
   "cell_type": "markdown",
   "metadata": {},
   "source": [
    "Borro las colunas Orden, Codigo y ano ya que no aportan nada al analisis"
   ]
  },
  {
   "cell_type": "code",
   "execution_count": 2,
   "metadata": {},
   "outputs": [],
   "source": [
    "raw_dataset = raw_dataset.drop('orden', axis=1)\n",
    "raw_dataset = raw_dataset.drop('codigo', axis=1)\n",
    "raw_dataset = raw_dataset.drop('año', axis=1)\n"
   ]
  },
  {
   "cell_type": "markdown",
   "metadata": {},
   "source": [
    "Ahora en busca de nulos"
   ]
  },
  {
   "cell_type": "code",
   "execution_count": 4,
   "metadata": {},
   "outputs": [
    {
     "data": {
      "text/plain": [
       "sitios                      0\n",
       "fecha                       0\n",
       "campaña                     0\n",
       "tem_agua                    0\n",
       "tem_aire                    0\n",
       "od                          0\n",
       "ph                          1\n",
       "olores                      0\n",
       "color                       0\n",
       "espumas                     0\n",
       "mat_susp                    0\n",
       "colif_fecales_ufc_100ml     0\n",
       "escher_coli_ufc_100ml       0\n",
       "enteroc_ufc_100ml           0\n",
       "nitrato_mg_l                0\n",
       "nh4_mg_l                    0\n",
       "p_total_l_mg_l              1\n",
       "fosf_ortofos_mg_l           0\n",
       "dbo_mg_l                    1\n",
       "dqo_mg_l                    0\n",
       "turbiedad_ntu               0\n",
       "hidr_deriv_petr_ug_l        0\n",
       "cr_total_mg_l               0\n",
       "cd_total_mg_l               0\n",
       "clorofila_a_ug_l            0\n",
       "microcistina_ug_l           0\n",
       "ica                         1\n",
       "calidad_de_agua            15\n",
       "dtype: int64"
      ]
     },
     "execution_count": 4,
     "metadata": {},
     "output_type": "execute_result"
    }
   ],
   "source": [
    "raw_dataset.isna().sum()"
   ]
  },
  {
   "cell_type": "markdown",
   "metadata": {},
   "source": [
    "Busco en cada una de las columnas cuales valores van a ser considerados nulos"
   ]
  },
  {
   "cell_type": "code",
   "execution_count": 1,
   "metadata": {},
   "outputs": [
    {
     "ename": "NameError",
     "evalue": "name 'raw_dataset' is not defined",
     "output_type": "error",
     "traceback": [
      "\u001b[1;31m---------------------------------------------------------------------------\u001b[0m",
      "\u001b[1;31mNameError\u001b[0m                                 Traceback (most recent call last)",
      "Cell \u001b[1;32mIn[1], line 2\u001b[0m\n\u001b[0;32m      1\u001b[0m \u001b[38;5;66;03m#se revisa una por una las columnas\u001b[39;00m\n\u001b[1;32m----> 2\u001b[0m \u001b[38;5;28;01mfor\u001b[39;00m idx, val \u001b[38;5;129;01min\u001b[39;00m \u001b[43mraw_dataset\u001b[49m[\u001b[38;5;124m\"\u001b[39m\u001b[38;5;124mcalidad_de_agua\u001b[39m\u001b[38;5;124m\"\u001b[39m]\u001b[38;5;241m.\u001b[39mvalue_counts()\u001b[38;5;241m.\u001b[39mitems():\n\u001b[0;32m      3\u001b[0m   \u001b[38;5;28mprint\u001b[39m(idx, val)\n",
      "\u001b[1;31mNameError\u001b[0m: name 'raw_dataset' is not defined"
     ]
    }
   ],
   "source": [
    "#se revisa una por una las columnas\n",
    "for idx, val in raw_dataset[\"calidad_de_agua\"].value_counts().items():\n",
    "  print(idx, val)"
   ]
  },
  {
   "cell_type": "markdown",
   "metadata": {},
   "source": [
    "Remplazo por nulos los valores que no nos interesan, no nos aportan informacion relevante\n",
    "primero hago copia"
   ]
  },
  {
   "cell_type": "code",
   "execution_count": 3,
   "metadata": {},
   "outputs": [],
   "source": [
    "\n",
    "preprocessed_dataset = raw_dataset.copy()\n",
    "preprocessed_dataset['tem_agua'] = preprocessed_dataset['tem_agua'].replace(['sin equipo', 'no muestreó', 'no se midió', 'en obra', 'no se muestreó', 'inaccesible'], pd.NA)\n",
    "preprocessed_dataset['tem_aire'] = preprocessed_dataset['tem_aire'].replace(['sin equipo', 'no muestreó', 'no se midió', 'en obra', 'no se muestreó', 'inaccesible'], pd.NA)\n",
    "preprocessed_dataset['od'] = preprocessed_dataset['od'].replace(['sin equipo', 'no muestreó', 'no se midió', 'en obra', 'no se muestreó', 'inaccesible'], pd.NA)\n",
    "preprocessed_dataset['ph'] = preprocessed_dataset['ph'].replace(['sin equipo', 'no muestreó', 'no se midió', 'en obra', 'no se muestreó', 'inaccesible'], pd.NA)\n",
    "preprocessed_dataset['olores'] = preprocessed_dataset['olores'].replace(['sin equipo', 'no muestreó', 'no se midió', 'en obra', 'no se muestreó', 'inaccesible'], pd.NA)\n",
    "preprocessed_dataset['color'] = preprocessed_dataset['color'].replace(['sin equipo', 'no muestreó', 'no se midió', 'en obra', 'no se muestreó', 'inaccesible'], pd.NA)                                                                            \n",
    "preprocessed_dataset['espumas'] = preprocessed_dataset['espumas'].replace(['sin equipo', 'no muestreó', 'no se midió', 'en obra', 'no se muestreó', 'inaccesible'], pd.NA)\n",
    "preprocessed_dataset['mat_susp'] = preprocessed_dataset['mat_susp'].replace(['sin equipo', 'no muestreó', 'no se midió', 'en obra', 'no se muestreó', 'inaccesible'], pd.NA)\n",
    "preprocessed_dataset['colif_fecales_ufc_100ml'] = preprocessed_dataset['colif_fecales_ufc_100ml'].replace(['sin equipo', 'no muestreó', 'no se midió', 'en obra', 'no se muestreó', 'inaccesible', 'sin muestra', 'envase sin muestra'], pd.NA)\n",
    "preprocessed_dataset['escher_coli_ufc_100ml'] = preprocessed_dataset['escher_coli_ufc_100ml'].replace(['sin equipo', 'no muestreó', 'no se midió', 'en obra', 'no se muestreó', 'inaccesible', 'sin muestra', 'envase sin muestra'], pd.NA)\n",
    "preprocessed_dataset['enteroc_ufc_100ml'] = preprocessed_dataset['enteroc_ufc_100ml'].replace(['sin equipo', 'no muestreó', 'no se midió', 'en obra', 'no se muestreó', 'inaccesible', 'sin muestra', 'envase sin muestra'], pd.NA)\n",
    "preprocessed_dataset['nitrato_mg_l'] = preprocessed_dataset['nitrato_mg_l'].replace(['sin equipo', 'no muestreó', 'no se midió', 'en obra', 'no se muestreó', 'inaccesible', 'sin muestra', 'envase sin muestra'], pd.NA)\n",
    "preprocessed_dataset['nh4_mg_l'] = preprocessed_dataset['nh4_mg_l'].replace(['sin equipo', 'no muestreó', 'no se midió', 'en obra', 'no se muestreó', 'inaccesible', 'sin muestra', 'envase sin muestra'], pd.NA)\n",
    "preprocessed_dataset['p_total_l_mg_l'] = preprocessed_dataset['p_total_l_mg_l'].replace(['sin equipo', 'no muestreó', 'no se midió', 'en obra', 'no se muestreó', 'inaccesible', 'sin muestra', 'envase sin muestra'], pd.NA)\n",
    "preprocessed_dataset['fosf_ortofos_mg_l'] = preprocessed_dataset['fosf_ortofos_mg_l'].replace(['sin equipo', 'no muestreó', 'no se midió', 'en obra', 'no se muestreó', 'inaccesible', 'sin muestra', 'envase sin muestra'], pd.NA)\n",
    "preprocessed_dataset['dbo_mg_l'] = preprocessed_dataset['dbo_mg_l'].replace(['sin equipo', 'no muestreó', 'no se midió', 'en obra', 'no se muestreó', 'inaccesible', 'sin muestra', 'envase sin muestra'], pd.NA)\n",
    "preprocessed_dataset['dqo_mg_l'] = preprocessed_dataset['dqo_mg_l'].replace(['sin equipo', 'no muestreó', 'no se midió', 'en obra', 'no se muestreó', 'inaccesible', 'sin muestra', 'envase sin muestra'], pd.NA)\n",
    "preprocessed_dataset['turbiedad_ntu'] = preprocessed_dataset['turbiedad_ntu'].replace(['sin equipo', 'no muestreó', 'no se midió', 'en obra', 'no se muestreó', 'inaccesible', 'sin muestra', 'envase sin muestra'], pd.NA)\n",
    "preprocessed_dataset['hidr_deriv_petr_ug_l'] = preprocessed_dataset['hidr_deriv_petr_ug_l'].replace(['sin equipo', 'no muestreó', 'no se midió', 'en obra', 'no se muestreó', 'inaccesible', 'sin muestra', 'envase sin muestra'], pd.NA)\n",
    "preprocessed_dataset['cr_total_mg_l'] = preprocessed_dataset['cr_total_mg_l'].replace(['sin equipo', 'no muestreó', 'no se midió', 'en obra', 'no se muestreó', 'inaccesible', 'sin muestra', 'envase sin muestra'], pd.NA)\n",
    "preprocessed_dataset['cd_total_mg_l'] = preprocessed_dataset['cd_total_mg_l'].replace(['sin equipo', 'no muestreó', 'no se midió', 'en obra', 'no se muestreó', 'inaccesible', 'sin muestra', 'envase sin muestra'], pd.NA)\n",
    "preprocessed_dataset['clorofila_a_ug_l'] = preprocessed_dataset['clorofila_a_ug_l'].replace(['sin equipo', 'no muestreó', 'no se midió', 'en obra', 'no se muestreó', 'inaccesible', 'sin muestra', 'envase sin muestra', 'falto un frasco'], pd.NA)\n",
    "preprocessed_dataset['microcistina_ug_l'] = preprocessed_dataset['microcistina_ug_l'].replace(['sin equipo', 'no muestreó', 'no se midió', 'en obra', 'no se muestreó', 'inaccesible', 'sin muestra', 'envase sin muestra', 'Dato atípico'], pd.NA)\n",
    "preprocessed_dataset['ica'] = preprocessed_dataset['ica'].replace(['sin equipo', 'no muestreó', 'no se midió', 'en obra', 'no se muestreó', 'inaccesible', 'sin muestra', 'envase sin muestra', 'no se pudo calcular'], pd.NA)\n",
    "preprocessed_dataset['calidad_de_agua'] = preprocessed_dataset['calidad_de_agua'].replace(['sin equipo', 'no muestreó', 'no se midió', 'en obra', 'no se muestreó', 'inaccesible', 'sin muestra', 'envase sin muestra'], pd.NA)\n",
    "\n",
    "#agrego las que faltan \n",
    "preprocessed_dataset['olores'] = preprocessed_dataset['olores'].replace(['sin equipo', 'no muestreó', 'no se midió', 'en obra', 'no se muestreó', 'inaccesible'], pd.NA)\n",
    "preprocessed_dataset['color'] = preprocessed_dataset['color'].replace(['sin equipo', 'no muestreó', 'no se midió', 'en obra', 'no se muestreó', 'inaccesible'], pd.NA)\n",
    "preprocessed_dataset['mat_susp'] = preprocessed_dataset['mat_susp'].replace(['sin equipo', 'no muestreó', 'no se midió', 'en obra', 'no se muestreó', 'inaccesible'], pd.NA)\n",
    "preprocessed_dataset['espumas'] = preprocessed_dataset['espumas'].replace(['sin equipo', 'no muestreó', 'no se midió', 'en obra', 'no se muestreó', 'inaccesible'], pd.NA)\n",
    "preprocessed_dataset['campaña'] = preprocessed_dataset['campaña'].replace(['sin equipo', 'no muestreó', 'no se midió', 'en obra', 'no se muestreó', 'inaccesible'], pd.NA)\n",
    "preprocessed_dataset['calidad_de_agua'] = preprocessed_dataset['calidad_de_agua'].replace(['sin equipo', 'no muestreó', 'no se midió', 'en obra', 'no se muestreó', 'inaccesible'], pd.NA)\n"
   ]
  },
  {
   "cell_type": "markdown",
   "metadata": {},
   "source": [
    "Los valores ya fueron pasados a null. Ahora hay que hacer los cambios de tipos de variable y ver que hacer con los < y >"
   ]
  },
  {
   "cell_type": "code",
   "execution_count": 22,
   "metadata": {},
   "outputs": [
    {
     "name": "stdout",
     "output_type": "stream",
     "text": [
      "<class 'pandas.core.frame.DataFrame'>\n",
      "RangeIndex: 169 entries, 0 to 168\n",
      "Data columns (total 28 columns):\n",
      " #   Column                   Non-Null Count  Dtype \n",
      "---  ------                   --------------  ----- \n",
      " 0   sitios                   169 non-null    object\n",
      " 1   fecha                    169 non-null    object\n",
      " 2   campaña                  169 non-null    object\n",
      " 3   tem_agua                 138 non-null    object\n",
      " 4   tem_aire                 142 non-null    object\n",
      " 5   od                       135 non-null    object\n",
      " 6   ph                       133 non-null    object\n",
      " 7   olores                   151 non-null    object\n",
      " 8   color                    151 non-null    object\n",
      " 9   espumas                  151 non-null    object\n",
      " 10  mat_susp                 151 non-null    object\n",
      " 11  colif_fecales_ufc_100ml  144 non-null    object\n",
      " 12  escher_coli_ufc_100ml    144 non-null    object\n",
      " 13  enteroc_ufc_100ml        144 non-null    object\n",
      " 14  nitrato_mg_l             151 non-null    object\n",
      " 15  nh4_mg_l                 151 non-null    object\n",
      " 16  p_total_l_mg_l           150 non-null    object\n",
      " 17  fosf_ortofos_mg_l        147 non-null    object\n",
      " 18  dbo_mg_l                 150 non-null    object\n",
      " 19  dqo_mg_l                 151 non-null    object\n",
      " 20  turbiedad_ntu            151 non-null    object\n",
      " 21  hidr_deriv_petr_ug_l     150 non-null    object\n",
      " 22  cr_total_mg_l            151 non-null    object\n",
      " 23  cd_total_mg_l            151 non-null    object\n",
      " 24  clorofila_a_ug_l         148 non-null    object\n",
      " 25  microcistina_ug_l        148 non-null    object\n",
      " 26  ica                      137 non-null    object\n",
      " 27  calidad_de_agua          137 non-null    object\n",
      "dtypes: object(28)\n",
      "memory usage: 37.1+ KB\n"
     ]
    }
   ],
   "source": [
    "preprocessed_dataset.info()"
   ]
  },
  {
   "cell_type": "markdown",
   "metadata": {},
   "source": [
    "Para poder trabajar con con ciertas columnas hace falta hacer algunas transformaciones a las columnas campana, olor, color, espumas, mat_sup, calidad_de_agua.\n",
    "\n",
    "Con respecto a la columna campana aplicamos la transformacion ordinal-encoding asumiendo un orden tal que 0->verano,1->otono,2->invierno,3->primavera (como es durante el anio)\n",
    "\n",
    "Para las columnas olores, color, espumas,mat_susp reemplazamos con 0 la ausencia y con 1 la prescencia.\n",
    "\n",
    "Por ultimo para la columna calidad_de_agua sera 0->muy deteriorada y 1->extremadamente deteriorada.\n",
    "\n"
   ]
  },
  {
   "cell_type": "code",
   "execution_count": 35,
   "metadata": {},
   "outputs": [
    {
     "name": "stdout",
     "output_type": "stream",
     "text": [
      "<class 'pandas.core.frame.DataFrame'>\n",
      "RangeIndex: 169 entries, 0 to 168\n",
      "Data columns (total 28 columns):\n",
      " #   Column                   Non-Null Count  Dtype  \n",
      "---  ------                   --------------  -----  \n",
      " 0   sitios                   169 non-null    object \n",
      " 1   fecha                    169 non-null    object \n",
      " 2   campaña                  169 non-null    object \n",
      " 3   tem_agua                 138 non-null    float64\n",
      " 4   tem_aire                 142 non-null    float64\n",
      " 5   od                       133 non-null    float64\n",
      " 6   ph                       125 non-null    float64\n",
      " 7   olores                   169 non-null    int64  \n",
      " 8   color                    151 non-null    float64\n",
      " 9   espumas                  151 non-null    float64\n",
      " 10  mat_susp                 151 non-null    float64\n",
      " 11  colif_fecales_ufc_100ml  144 non-null    float64\n",
      " 12  escher_coli_ufc_100ml    144 non-null    float64\n",
      " 13  enteroc_ufc_100ml        144 non-null    float64\n",
      " 14  nitrato_mg_l             131 non-null    float64\n",
      " 15  nh4_mg_l                 141 non-null    float64\n",
      " 16  p_total_l_mg_l           149 non-null    float64\n",
      " 17  fosf_ortofos_mg_l        147 non-null    object \n",
      " 18  dbo_mg_l                 150 non-null    object \n",
      " 19  dqo_mg_l                 151 non-null    object \n",
      " 20  turbiedad_ntu            151 non-null    float64\n",
      " 21  hidr_deriv_petr_ug_l     150 non-null    object \n",
      " 22  cr_total_mg_l            151 non-null    object \n",
      " 23  cd_total_mg_l            151 non-null    object \n",
      " 24  clorofila_a_ug_l         148 non-null    object \n",
      " 25  microcistina_ug_l        28 non-null     float64\n",
      " 26  ica                      137 non-null    float64\n",
      " 27  calidad_de_agua          151 non-null    float64\n",
      "dtypes: float64(17), int64(1), object(10)\n",
      "memory usage: 37.1+ KB\n"
     ]
    }
   ],
   "source": [
    "\n",
    "\n",
    "\n",
    "#analizamos los datos que tienen, ya que aveces algunos datos se anotan de distintas manera o\n",
    "#difieren en una letra lo que hace que sea un dato completamente distinto\n",
    "preprocessed_dataset['olores'].value_counts()\n",
    "preprocessed_dataset['color'].value_counts()\n",
    "preprocessed_dataset['campaña'].value_counts()\n",
    "preprocessed_dataset['espumas'].value_counts()\n",
    "preprocessed_dataset['mat_susp'].value_counts()\n",
    "preprocessed_dataset['calidad_de_agua'].value_counts()\n",
    "\n",
    "\n",
    "\n",
    "\n",
    "#Transformacion campaña\n",
    "\n",
    "preprocessed_dataset['campaña']=preprocessed_dataset['campaña'].replace(['Verano','otoño','invierno','primavera'],['0','1','2','3'])\n",
    "preprocessed_dataset['campaña'].astype(int)\n",
    "\n",
    "\n",
    "\n",
    "#transformacion olores, color, espumas,mat_susp\n",
    "preprocessed_dataset['olores']=preprocessed_dataset['campaña'].replace(['Ausencia','Presencia'],['0','1'])\n",
    "preprocessed_dataset['color']=preprocessed_dataset['color'].replace(['Ausencia','Presencia'],['0','1'])\n",
    "preprocessed_dataset['espumas']=preprocessed_dataset['espumas'].replace(['Ausencia','Presencia'],['0','1'])\n",
    "preprocessed_dataset['mat_susp']=preprocessed_dataset['mat_susp'].replace(['Ausencia','Presencia'],['0','1'])\n",
    "\n",
    "#transformacion calidad_de_agua\n",
    "preprocessed_dataset['calidad_de_agua']=preprocessed_dataset['calidad_de_agua'].replace(['Muy deteriorada','Muy deteriorada ','Extremadamente deteriorada'],['0','0','1'])\n",
    "\n",
    "#las tranformo a tipo float ya que generalmente para usar ciertas funciones requiere que sean de ese tipo\n",
    "\n",
    "preprocessed_dataset['microcistina_ug_l']=preprocessed_dataset['microcistina_ug_l'].replace(['<','>'],'')\n",
    "\n",
    "\n",
    "excluidos=['nitrato_mg_l','nh4_mg_l','p_total_l_mg_l','fosf_ortofos_mg_l','dbo_mg_l','dqo_mg_l ','hidr_deriv_petr_ug_l','cr_total_mg_l','cd_total_mg_l','clorofila_a_ug_l']\n",
    "columnas=['microcistina_ug_l','tem_agua','tem_aire','od','ph','olores','color','espumas','mat_susp','colif_fecales_ufc_100ml'\n",
    "           ,'escher_coli_ufc_100ml','enteroc_ufc_100ml','turbiedad_ntu','ica','calidad_de_agua']\n",
    "preprocessed_dataset[columnas] = preprocessed_dataset[columnas].apply(pd.to_numeric, errors='coerce')\n",
    "\n",
    "preprocessed_dataset.info()"
   ]
  },
  {
   "cell_type": "markdown",
   "metadata": {},
   "source": [
    "Ahora con los datos convertidos podemos usar funciones tales como boxplot para analizar\n",
    "outliers.\n",
    "Algunos valores son muy altos y otros muy bajos por lo que para mostrarlo y que se vea a detalle lo hacemos en varias partes."
   ]
  },
  {
   "cell_type": "code",
   "execution_count": 36,
   "metadata": {},
   "outputs": [
    {
     "data": {
      "image/png": "[encoded data removed]",
      "text/plain": [
       "<Figure size 1000x600 with 1 Axes>"
      ]
     },
     "metadata": {},
     "output_type": "display_data"
    }
   ],
   "source": [
    "import seaborn as sns\n",
    "import matplotlib.pyplot as plt\n",
    "from sklearn.preprocessing import MinMaxScaler\n",
    "\n",
    "#Primero aplico un escalado para que sea tanta la diferencia entre valores\n",
    "\n",
    "\n",
    "\n",
    "scaler= MinMaxScaler()\n",
    "copia= preprocessed_dataset.copy()\n",
    "\n",
    "\n",
    "columnasSinBIN= columnas.copy()\n",
    "listaAexcluir=['olores','color ','espumas','mat_susp','calidad_de_agua']\n",
    "\n",
    "for i in columnasSinBIN:\n",
    "    if i in listaAexcluir:\n",
    "        columnasSinBIN.remove(i)    \n",
    "\n",
    "#copia[columnas] = copia[columnas].fillna(copia[columnas].mean())\n",
    "copia[columnasSinBIN]= scaler.fit_transform(copia[columnasSinBIN])\n",
    "\n",
    "#Faltas algunas pero por que todavia no realizamos la correccion como las de > <\n",
    "copia[columnasSinBIN].boxplot(figsize=(10, 6))\n",
    "plt.xticks(rotation=45)\n",
    "plt.show()\n",
    "\n"
   ]
  },
  {
   "cell_type": "markdown",
   "metadata": {},
   "source": [
    "En base a lo que se observa en la grafica podriamos debatir si los outliers presentes \n",
    "pueden deberse a un error o no."
   ]
  },
  {
   "cell_type": "markdown",
   "metadata": {},
   "source": [
    "Hipótesis toxinas de algas condicionada por diversos factores:\n",
    "\n",
    "Una de las hipotesis que surgieron fue que la cantidad de toxinas producidas por las algas podria estar relacionada con la temperatura,el ph u otros factores.\n",
    " \n",
    " Como primer paso podriamos analizar si existe una relacion lineal entre ambas, haciendo un analisis de correlacion."
   ]
  },
  {
   "cell_type": "code",
   "execution_count": 38,
   "metadata": {},
   "outputs": [
    {
     "name": "stdout",
     "output_type": "stream",
     "text": [
      "0.011688224839763613\n"
     ]
    }
   ],
   "source": [
    "import numpy as np\n",
    "\n",
    "#TEMPORAL\n",
    "preprocessed_dataset[\"microcistina_ug_l\"].fillna(preprocessed_dataset[\"microcistina_ug_l\"].mean(), inplace=True)\n",
    "preprocessed_dataset[\"ph\"].fillna(preprocessed_dataset[\"ph\"].mean(), inplace=True)\n",
    "preprocessed_dataset[\"tem_agua\"].fillna(preprocessed_dataset[\"tem_agua\"].mean(), inplace=True)\n",
    "#TEMPORAL\n",
    "\n",
    "\n",
    "\n",
    "col1= preprocessed_dataset[\"microcistina_ug_l\"]\n",
    "col2= preprocessed_dataset[\"ph\"]\n",
    "col3= preprocessed_dataset[\"tem_agua\"]\n",
    "\n",
    "\n",
    "#Relacion tem_agua con microcistina\n",
    "coeficiente_de_correlacion= np.corrcoef(col1,col2)[0,1]\n",
    "\n",
    "print(coeficiente_de_correlacion)\n"
   ]
  },
  {
   "cell_type": "markdown",
   "metadata": {},
   "source": [
    "El coeficiente de relacion entre el ph y las toxinas de las algas esta cerca del 0 lo que indica que no existe relacion entre estas variables, ahora bien analicemos que pasa con la temperatura."
   ]
  },
  {
   "cell_type": "code",
   "execution_count": 40,
   "metadata": {},
   "outputs": [
    {
     "name": "stdout",
     "output_type": "stream",
     "text": [
      "0.15781052164353074\n"
     ]
    }
   ],
   "source": [
    "coeficiente_de_correlacion= np.corrcoef(col1,col3)[0,1]\n",
    "print(coeficiente_de_correlacion)"
   ]
  },
  {
   "cell_type": "markdown",
   "metadata": {},
   "source": [
    "Como se observa el coeficiente es mas alto pero sigue siendo insignificante por lo que podria decirse a priori es que la cantidad de toxinas que producen las algas no se ve afectada por el ph del agua ni por la temperatura de esta."
   ]
  },
  {
   "cell_type": "markdown",
   "metadata": {},
   "source": [
    "Hipotesis oxigeno disuelto afectado por la temperatura y contaminacion organica:\n",
    "\n",
    "Investigando un poco del tema encontramos que el oxigeno disuelto en el agua se puede ver afectado por algunas cosas, entre ellas la temperatura la cual puede disminuirlo y la materia organica, ya que el oxigeno se consume para poder descomponerla.\n",
    "\n",
    "A continuacion estudiamos si existe alguna relacion lineal entre ellas."
   ]
  },
  {
   "cell_type": "code",
   "execution_count": 42,
   "metadata": {},
   "outputs": [
    {
     "name": "stdout",
     "output_type": "stream",
     "text": [
      "-0.3521339364072548\n"
     ]
    }
   ],
   "source": [
    "#TEMPORAL\n",
    "preprocessed_dataset[\"od\"].fillna(preprocessed_dataset[\"od\"].mean(), inplace=True)\n",
    "preprocessed_dataset[\"nh4_mg_l\"].fillna(preprocessed_dataset[\"nh4_mg_l\"].mean(), inplace=True)\n",
    "#TEMPORAL\n",
    "\n",
    "col1= preprocessed_dataset['od']\n",
    "col2= preprocessed_dataset['nh4_mg_l']\n",
    "#col3 se utiliza en el analisis de la hipotesis anterior.\n",
    "\n",
    "\n",
    "coeficiente_de_correlacion= np.corrcoef(col1,col2)[0,1]\n",
    "print(coeficiente_de_correlacion)\n"
   ]
  },
  {
   "cell_type": "markdown",
   "metadata": {},
   "source": [
    "El coeficiente de correlacion dio negativo, lo que indicaria una relacion lineal inversa pero es un valor muy chico, por lo que podriamos decir que la disminucion de oxigeno si bien se ve afectada por la materia organica no es algo muy relevante.\n",
    "Ahora veamos que pasa con la temperatura del agua."
   ]
  },
  {
   "cell_type": "code",
   "execution_count": 43,
   "metadata": {},
   "outputs": [
    {
     "name": "stdout",
     "output_type": "stream",
     "text": [
      "-0.12668110857347023\n"
     ]
    }
   ],
   "source": [
    "coeficiente_de_correlacion= np.corrcoef(col1,col3)[0,1]\n",
    "print(coeficiente_de_correlacion)"
   ]
  },
  {
   "cell_type": "markdown",
   "metadata": {},
   "source": [
    "Al igual que el anterior es negativo, por lo que si uno disminuye el otro aumenta pero la relacion entre ellos no es muy fuerte.\n",
    "Podria decirse que el od se ve afectado por distintos factores no solo la temperatura y la materia organica que contribuyen a la disminucion del mismo."
   ]
  },
  {
   "cell_type": "code",
   "execution_count": null,
   "metadata": {},
   "outputs": [
    {
     "ename": "NameError",
     "evalue": "name 'plt' is not defined",
     "output_type": "error",
     "traceback": [
      "\u001b[1;31m---------------------------------------------------------------------------\u001b[0m",
      "\u001b[1;31mNameError\u001b[0m                                 Traceback (most recent call last)",
      "Cell \u001b[1;32mIn[45], line 7\u001b[0m\n\u001b[0;32m      5\u001b[0m preprocessed_dataset_fijarse \u001b[38;5;241m=\u001b[39m preprocessed_dataset_fijarse\u001b[38;5;241m.\u001b[39mdrop(columnas_cualitativas, axis \u001b[38;5;241m=\u001b[39m \u001b[38;5;241m1\u001b[39m)\n\u001b[0;32m      6\u001b[0m matrix\u001b[38;5;241m=\u001b[39mpreprocessed_dataset_fijarse\u001b[38;5;241m.\u001b[39mcorr()\n\u001b[1;32m----> 7\u001b[0m \u001b[43mplt\u001b[49m\u001b[38;5;241m.\u001b[39mfigure(figsize\u001b[38;5;241m=\u001b[39m(\u001b[38;5;241m16\u001b[39m,\u001b[38;5;241m12\u001b[39m))\n\u001b[0;32m      8\u001b[0m sns\u001b[38;5;241m.\u001b[39mheatmap(matrix, vmin\u001b[38;5;241m=\u001b[39m\u001b[38;5;241m0.0\u001b[39m, vmax\u001b[38;5;241m=\u001b[39m\u001b[38;5;241m1.0\u001b[39m, center\u001b[38;5;241m=\u001b[39m\u001b[38;5;241m0.0\u001b[39m, annot\u001b[38;5;241m=\u001b[39m\u001b[38;5;28;01mTrue\u001b[39;00m, cmap\u001b[38;5;241m=\u001b[39m \u001b[38;5;124m'\u001b[39m\u001b[38;5;124mcoolwarm\u001b[39m\u001b[38;5;124m'\u001b[39m)\n\u001b[0;32m      9\u001b[0m plt\u001b[38;5;241m.\u001b[39mshow()\n",
      "\u001b[1;31mNameError\u001b[0m: name 'plt' is not defined"
     ]
    }
   ],
   "source": [
    "\n",
    "\n",
    "columnas_cualitativas = ['campaña', 'olores', 'color', 'espumas', 'mat_susp', 'calidad_de_agua']\n",
    "\n",
    "cosas = ['sitios','fecha']\n",
    "preprocessed_dataset_fijarse = preprocessed_dataset.drop(cosas, axis = 1)\n",
    "preprocessed_dataset_fijarse = preprocessed_dataset_fijarse.drop(columnas_cualitativas, axis = 1)\n",
    "matrix=preprocessed_dataset_fijarse.corr()\n",
    "\n",
    "import seaborn as sns\n",
    "import matplotlib.pyplot as plt\n",
    "import numpy as np\n",
    "plt.figure(figsize=(16,12))\n",
    "sns.heatmap(matrix, vmin=0.0, vmax=1.0, center=0.0, annot=True, cmap= 'coolwarm')\n",
    "plt.show()"
   ]
  }
 ],
 "metadata": {
  "kernelspec": {
   "display_name": "env",
   "language": "python",
   "name": "python3"
  },
  "language_info": {
   "codemirror_mode": {
    "name": "ipython",
    "version": 3
   },
   "file_extension": ".py",
   "mimetype": "text/x-python",
   "name": "python",
   "nbconvert_exporter": "python",
   "pygments_lexer": "ipython3",
   "version": "3.12.5"
  }
 },
 "nbformat": 4,
 "nbformat_minor": 2
}
